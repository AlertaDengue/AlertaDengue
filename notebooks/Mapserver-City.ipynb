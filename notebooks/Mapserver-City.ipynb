{
 "cells": [
  {
   "cell_type": "markdown",
   "metadata": {},
   "source": [
    "# Mapserver / City"
   ]
  },
  {
   "cell_type": "code",
   "execution_count": 1,
   "metadata": {},
   "outputs": [],
   "source": [
    "from IPython.display import display, HTML\n",
    "from matplotlib import pyplot as plt\n",
    "from AlertaDengue.AlertaDengue.settings import MAPSERVER_URL\n",
    "\n",
    "import geopandas as gpd\n",
    "import numpy as np\n",
    "import os\n",
    "# local\n",
    "import AlertaDengue as alert_dengue"
   ]
  },
  {
   "cell_type": "markdown",
   "metadata": {},
   "source": [
    "## Setting variables"
   ]
  },
  {
   "cell_type": "code",
   "execution_count": 2,
   "metadata": {},
   "outputs": [],
   "source": [
    "shp_path = '%s/static/shapefile' % alert_dengue.__path__[0]\n",
    "\n",
    "local_mapfile_dir = '%s/mapfiles/%%s' % (\n",
    "    os.path.dirname(alert_dengue.__path__[0])\n",
    ")\n",
    "\n",
    "ms_shp_path = '/shapefiles'\n",
    "ms_error_path = '/var/log/mapserver.log'\n",
    "ms_cgi_path = MAPSERVER_URL + '?map=%s&'\n",
    "ms_mapfile_name = '%s.map'\n",
    "ms_mapfile_dir = '/maps/%s'"
   ]
  },
  {
   "cell_type": "code",
   "execution_count": 3,
   "metadata": {},
   "outputs": [],
   "source": [
    "alert_colors = [\n",
    "    '#00FF00',\n",
    "    '#FFFF00',\n",
    "    '#FF9900',\n",
    "    '#FF0000',\n",
    "]"
   ]
  },
  {
   "cell_type": "code",
   "execution_count": 4,
   "metadata": {},
   "outputs": [],
   "source": [
    "# Rio de Janeiro's conf\n",
    "geocode = 3304557\n",
    "city_name = 'Rio de Janeiro'\n",
    "# extent = '-4889577.9629838 -2648998.9936479 -4780083.386022 -2589072.9076081'\n",
    "\n",
    "# Curitiba's conf\n",
    "# geocode = 4106902\n",
    "# city_name = 'Curitiba'\n",
    "# extent = '-5502641.8656547 -2956723.5629958 -5471754.0373563 -2915478.1395794'\n",
    "\n",
    "alert_level = 2\n",
    "disease = 'dengue'"
   ]
  },
  {
   "cell_type": "markdown",
   "metadata": {},
   "source": [
    "## Check Shapefile"
   ]
  },
  {
   "cell_type": "code",
   "execution_count": 5,
   "metadata": {},
   "outputs": [],
   "source": [
    "def extract_boundaries(gdf: gpd.GeoDataFrame):\n",
    "    \"\"\"\n",
    "    \"\"\"\n",
    "    bound_min = gdf.bounds[['minx', 'miny']].min()\n",
    "    bound_max = gdf.bounds[['maxx', 'maxy']].max()\n",
    "    bounds = np.array((bound_min, bound_max)).flatten()\n",
    "    return bounds\n",
    "\n",
    "def calc_layer_width_by_boundaries(bounds: np.array, layer_height: int=400):\n",
    "    # ratio size\n",
    "    width = np.abs(bounds[0] - bounds[2])\n",
    "    height = np.abs(bounds[1] - bounds[3])\n",
    "    \n",
    "    ratio_size =  width / height\n",
    "\n",
    "    return layer_height * ratio_size"
   ]
  },
  {
   "cell_type": "code",
   "execution_count": 6,
   "metadata": {},
   "outputs": [
    {
     "data": {
      "image/png": "[encoded data removed]",
      "text/plain": [
       "<matplotlib.figure.Figure at 0x7f15ea6ec748>"
      ]
     },
     "metadata": {},
     "output_type": "display_data"
    }
   ],
   "source": [
    "gdf = gpd.GeoDataFrame.from_file(os.path.join(shp_path, '%s.shp' % geocode))\n",
    "gdf.plot()\n",
    "\n",
    "plt.grid(True)\n",
    "plt.show()"
   ]
  },
  {
   "cell_type": "code",
   "execution_count": 7,
   "metadata": {},
   "outputs": [
    {
     "data": {
      "text/plain": [
       "array([-43.79653853, -23.0828927 , -43.0990394 , -22.74602029])"
      ]
     },
     "execution_count": 7,
     "metadata": {},
     "output_type": "execute_result"
    }
   ],
   "source": [
    "# boundaries\n",
    "bounds = extract_boundaries(gdf)\n",
    "bounds"
   ]
  },
  {
   "cell_type": "code",
   "execution_count": 11,
   "metadata": {},
   "outputs": [],
   "source": [
    "str_boundaries = [str(v) for v in bounds]\n",
    "extent = ' '.join(str_boundaries)\n",
    "extent_url = ','.join(str_boundaries)"
   ]
  },
  {
   "cell_type": "code",
   "execution_count": 12,
   "metadata": {},
   "outputs": [
    {
     "data": {
      "text/plain": [
       "{'init': 'epsg:4326'}"
      ]
     },
     "execution_count": 12,
     "metadata": {},
     "output_type": "execute_result"
    }
   ],
   "source": [
    "# crs/srs\n",
    "gdf.crs"
   ]
  },
  {
   "cell_type": "code",
   "execution_count": 13,
   "metadata": {},
   "outputs": [],
   "source": [
    "crs_proj = gdf.crs['init']\n",
    "wms_srs = crs_proj.upper()"
   ]
  },
  {
   "cell_type": "code",
   "execution_count": 14,
   "metadata": {},
   "outputs": [],
   "source": [
    "layer_height = 400\n",
    "layer_width = calc_layer_width_by_boundaries(bounds)"
   ]
  },
  {
   "cell_type": "markdown",
   "metadata": {},
   "source": [
    "## Mapfile"
   ]
  },
  {
   "cell_type": "markdown",
   "metadata": {},
   "source": [
    "### Templates"
   ]
  },
  {
   "cell_type": "code",
   "execution_count": 15,
   "metadata": {},
   "outputs": [],
   "source": [
    "# mapfile templates\n",
    "\n",
    "mapfile_template = '''\n",
    "MAP\n",
    "    # The geographic extent (the rectangular area covered by the map) is \n",
    "    # defined by the keyword EXTENT. The rectangular area is specified by\n",
    "    # the coordinates of the opposite corners (the lower left and the upper \n",
    "    # right). These are coordinates of the southwest and the northeast corners \n",
    "    # EX:\n",
    "    # EXTENT -125.00 20.00 -65.00 50.00\n",
    "    # The geographic extent stretches from 125° west, 20° north to 65° west, \n",
    "    # 50° north.\n",
    "    \n",
    "    CONFIG 'ON_MISSING_DATA' 'IGNORE'\n",
    "    CONFIG 'PROJ_LIB' './conf/'\n",
    "    CONFIG      \"MS_ERRORFILE\" \"%(ms_error_path)s\"\n",
    "    CONFIG      \"CPL_DEBUG\" \"ON\"\n",
    "    CONFIG      \"PROJ_DEBUG\" \"ON\"\n",
    "    DEBUG       5\n",
    "    \n",
    "    NAME        \"MAP_%(mapfile_name)s\"\n",
    "    \n",
    "    IMAGETYPE   png\n",
    "    IMAGECOLOR  0 0 0\n",
    "    MAXSIZE     4000\n",
    "    SIZE        800 800\n",
    "    UNITS       meters\n",
    "    EXTENT %(extent)s\n",
    "       \n",
    "    OUTPUTFORMAT\n",
    "      NAME      \"png\"\n",
    "      DRIVER    AGG/PNG\n",
    "      MIMETYPE  \"image/png\"\n",
    "      IMAGEMODE RGBA\n",
    "      EXTENSION \"png\"\n",
    "      FORMATOPTION \"GAMMA=0.75\"\n",
    "    END\n",
    "    \n",
    "    OUTPUTFORMAT\n",
    "      NAME \"GTiff\"\n",
    "      DRIVER GDAL/GTiff\n",
    "      MIMETYPE \"image/tiff\"\n",
    "      IMAGEMODE RGBA\n",
    "      EXTENSION \"tif\"\n",
    "    END\n",
    "    \n",
    "    OUTPUTFORMAT\n",
    "      NAME \"kml\"\n",
    "      DRIVER KML\n",
    "      MIMETYPE \"application/vnd.google-earth.kml+xml\"\n",
    "      IMAGEMODE RGBA\n",
    "      EXTENSION \"kml\"\n",
    "      FORMATOPTION 'ATTACHMENT=%(mapfile_name)s.kml'\n",
    "    END\n",
    "\n",
    "    PROJECTION\n",
    "        \"init=%(crs_proj)s\"\n",
    "    END\n",
    "\n",
    "    WEB\n",
    "      METADATA\n",
    "        \"wms_title\" \"Alerta Dengue\"\n",
    "        \"wms_onlineresource\" \"%(ms_cgi_path)s\"\n",
    "        \"wms_enable_request\" \"*\"\n",
    "        \"wms_srs\" \"%(wms_srs)s EPSG:3857 CRS:84\"\n",
    "        \"wms_getmap_formatlist\" \"png,kml,gtiff\"\n",
    "        \"labelcache_map_edge_buffer\" \"-10\"\n",
    "        # \"wms_feature_info_mime_type\" \"text/html\"\n",
    "        # \"wms_format\" \"image/png\"\n",
    "      END\n",
    "      \n",
    "      IMAGEPATH '/tmp/map/'\n",
    "      IMAGEURL '/mapimg/'\n",
    "\n",
    "    END\n",
    "    \n",
    "    SHAPEPATH '%(shp_path)s/'\n",
    " \n",
    "%(include_layers)s\n",
    " \n",
    "END\n",
    "'''\n",
    "\n",
    "mapfile_layer_template = '''\n",
    "    LAYER\n",
    "        NAME         \"%(city_name)s\"\n",
    "        DATA         \"%(geocode)s\"\n",
    "        STATUS       ON\n",
    "        TYPE         POLYGON\n",
    "        # OFFSITE      0 0 0\n",
    "        \n",
    "        TEMPLATE \"conf/template.html\"\n",
    "        \n",
    "        PROJECTION\n",
    "          \"init=%(crs_proj)s\"\n",
    "        END\n",
    "        \n",
    "        METADATA\n",
    "          \"wms_title\" \"%(city_name)s\"\n",
    "          \"wms_srs\" \"%(wms_srs)s EPSG:3857 CRS:84\"\n",
    "          \"wms_include_items\" \"all\" \n",
    "          \"wms_formatlist\" \"png,gtiff,kml\"\n",
    "        END\n",
    "        \n",
    "        # COMPOSITE\n",
    "        #     OPACITY 70\n",
    "        # END # COMPOSITE\n",
    " \n",
    "        CLASS\n",
    "            STYLE\n",
    "                COLOR '%(rgb)s'\n",
    "            END\n",
    "        END\n",
    "    END\n",
    "'''"
   ]
  },
  {
   "cell_type": "markdown",
   "metadata": {},
   "source": [
    "### Generating the mapfile"
   ]
  },
  {
   "cell_type": "code",
   "execution_count": 16,
   "metadata": {},
   "outputs": [],
   "source": [
    "alert_color = (\n",
    "    alert_colors[alert_level] if 0 <= alert_level <= 3 else\n",
    "    '#DFDFDF'  # gray\n",
    ")\n",
    "\n",
    "layer_conf = {\n",
    "    'geocode': geocode,\n",
    "    'city_name': city_name.upper().replace(' ', '_'),\n",
    "    'rgb': alert_color,\n",
    "    'wms_srs': wms_srs,\n",
    "    'crs_proj': crs_proj\n",
    "}\n",
    "\n",
    "layers = [layer_conf]"
   ]
  },
  {
   "cell_type": "code",
   "execution_count": 17,
   "metadata": {},
   "outputs": [
    {
     "name": "stdout",
     "output_type": "stream",
     "text": [
      "Saving  /home/xmn/dev/AlertaDengue/AlertaDengue/mapfiles/dengue-Rio-de-Janeiro.map file ...\n"
     ]
    }
   ],
   "source": [
    "# save mapfile\n",
    "\n",
    "include_layers = ''\n",
    "include_template = '    INCLUDE \"layers/%s\"  # %s\\n'\n",
    "\n",
    "# save individual layers\n",
    "for layer_conf in layers:\n",
    "    layer_content = mapfile_layer_template % layer_conf\n",
    "    layer_name = 'dengue-%s.map' % layer_conf['geocode']\n",
    "    layer_path = local_mapfile_dir % ('/layers/%s' % layer_name)\n",
    "    \n",
    "    include_layers += include_template % (layer_name, layer_conf['city_name'])\n",
    "    \n",
    "    with open(layer_path, 'w') as f:\n",
    "        f.write(layer_content)\n",
    "\n",
    "# save city map file\n",
    "mapfile_name = ms_mapfile_name % (\n",
    "    '%s-%s' % (disease, city_name.replace(' ', '-'))\n",
    ")\n",
    "mapfile_path = local_mapfile_dir % mapfile_name\n",
    "ms_mapfile_path = ms_mapfile_dir % mapfile_name\n",
    "\n",
    "ms_config = {\n",
    "    'include_layers': include_layers,\n",
    "    'ms_error_path': ms_error_path,\n",
    "    'ms_cgi_path': ms_cgi_path % ms_mapfile_path,\n",
    "    'shp_path': ms_shp_path,\n",
    "    'extent': extent,\n",
    "    'mapfile_name': city_name.upper().replace(' ', '_'),\n",
    "    'wms_srs': wms_srs,\n",
    "    'crs_proj': crs_proj\n",
    "}\n",
    "\n",
    "mapfile_content = mapfile_template % ms_config\n",
    "\n",
    "print('Saving ', mapfile_path, 'file ...')\n",
    "with open(mapfile_path, 'w') as f:\n",
    "    f.write(mapfile_content)"
   ]
  },
  {
   "cell_type": "markdown",
   "metadata": {},
   "source": [
    "## Visualizing the map"
   ]
  },
  {
   "cell_type": "code",
   "execution_count": 18,
   "metadata": {},
   "outputs": [
    {
     "data": {
      "text/html": [
       "\n",
       "<script type=\"text/javascript\">\n",
       "    var extent_url = '-43.7965385309,-23.0828926973,-43.0990394004,-22.7460202858';\n",
       "    var crs_proj = 'epsg:4326';\n",
       "    var mapserver_url = 'http://172.17.0.2:80';\n",
       "    var layerWidth = 828.205702393;\n",
       "    var layerHeight = 400\n",
       "</script>\n"
      ],
      "text/plain": [
       "<IPython.core.display.HTML object>"
      ]
     },
     "execution_count": 18,
     "metadata": {},
     "output_type": "execute_result"
    }
   ],
   "source": [
    "HTML('''\n",
    "<script type=\"text/javascript\">\n",
    "    var extent_url = '%s';\n",
    "    var crs_proj = '%s';\n",
    "    var mapserver_url = '%s';\n",
    "    var layerWidth = %s;\n",
    "    var layerHeight = %s\n",
    "</script>\n",
    "''' % (extent_url, crs_proj, MAPSERVER_URL, layer_width, layer_height))"
   ]
  },
  {
   "cell_type": "code",
   "execution_count": 21,
   "metadata": {
    "scrolled": false
   },
   "outputs": [
    {
     "data": {
      "text/html": [
       "<div><h2>dengue.map</h2>&nbsp;</div>\n",
       "\n",
       "<div id=\"dengue\" style=\"height: 400px; width: 800px;\"></div>\n",
       "\n",
       "<link rel=\"stylesheet\" href=\"lib/leaflet/leaflet.css\" />\n",
       "<script type=\"text/javascript\" src=\"lib/leaflet/leaflet.js\"></script>\n",
       "\n",
       "<script>\n",
       "\n",
       "var mapfile_url = (\n",
       "    mapserver_url + '?' + \n",
       "    'map=/maps/dengue.map&' + \n",
       "    'SERVICE=WMS&VERSION=1.3.0&REQUEST=GetMap&LAYERS=RIO_DE_JANEIRO&' +\n",
       "    'STYLES=&SRS=' + crs_proj + '&BBOX=' + extent_url + '&' +\n",
       "    'WIDTH=' + layerWidth + '&HEIGHT=' + layerHeight + '&FORMAT=image/png'\n",
       ");\n",
       "\n",
       "console.log(mapfile_url);\n",
       "\n",
       "var osmUrl='http://{s}.tile.openstreetmap.org/{z}/{x}/{y}.png';\n",
       "var osmAttrib = 'Map data © <a href=\"http://openstreetmap.org\">OpenStreetMap</a> contributors';\n",
       "\n",
       "var minZoom = 9;\n",
       "var maxZoom = 11;\n",
       "var zoom = 10;\n",
       "\n",
       "//# openstreetmap\n",
       "osm = L.tileLayer(osmUrl, {\n",
       "    attribution: osmAttrib,\n",
       "    crs: L.CRS.EPSG4326,\n",
       "    minZoom: minZoom,\n",
       "    maxZoom: maxZoom\n",
       "});\n",
       "\n",
       "//# mapserver\n",
       "ms = L.tileLayer.wms(mapfile_url, {\n",
       "    layers: 'RIO_DE_JANEIRO',\n",
       "    format: 'image/png',\n",
       "    transparent: true,\n",
       "    attribution: \"Info Dengue\",\n",
       "    srs:\"EPSG:4326\",\n",
       "    crs: L.CRS.EPSG4326,\n",
       "    minZoom: minZoom,\n",
       "    maxZoom: maxZoom,\n",
       "});\n",
       "\n",
       "var baseMap = {\n",
       "    \"OSM\": osm\n",
       "};\n",
       "\n",
       "var overlayMaps = {\n",
       "    \"Rio Alerta\": ms\n",
       "};\n",
       "\n",
       "var map = L.map(\n",
       "    'dengue', {\n",
       "        //crs: L.CRS.EPSG4326,\n",
       "        center: new L.LatLng(-22.9192,-43.4441),\n",
       "        zoom: zoom,\n",
       "        layers: [osm]\n",
       "    }\n",
       "); \n",
       "\n",
       "L.control.layers(baseMap, overlayMaps).addTo(map);\n",
       "\n",
       "</script>"
      ],
      "text/plain": [
       "<IPython.core.display.HTML object>"
      ]
     },
     "metadata": {},
     "output_type": "display_data"
    }
   ],
   "source": [
    "%%html\n",
    "<div><h2>dengue.map</h2>&nbsp;</div>\n",
    "\n",
    "<div id=\"dengue\" style=\"height: 400px; width: 800px;\"></div>\n",
    "\n",
    "<link rel=\"stylesheet\" href=\"lib/leaflet/leaflet.css\" />\n",
    "<script type=\"text/javascript\" src=\"lib/leaflet/leaflet.js\"></script>\n",
    "\n",
    "<script>\n",
    "\n",
    "var mapfile_url = (\n",
    "    mapserver_url + '?' + \n",
    "    'map=/maps/dengue.map&' + \n",
    "    'SERVICE=WMS&VERSION=1.3.0&REQUEST=GetMap&LAYERS=RIO_DE_JANEIRO&' +\n",
    "    'STYLES=&SRS=' + crs_proj + '&BBOX=' + extent_url + '&' +\n",
    "    'WIDTH=' + layerWidth + '&HEIGHT=' + layerHeight + '&FORMAT=image/png'\n",
    ");\n",
    "\n",
    "console.log(mapfile_url);\n",
    "\n",
    "var osmUrl='http://{s}.tile.openstreetmap.org/{z}/{x}/{y}.png';\n",
    "var osmAttrib = 'Map data © <a href=\"http://openstreetmap.org\">OpenStreetMap</a> contributors';\n",
    "\n",
    "var minZoom = 9;\n",
    "var maxZoom = 11;\n",
    "var zoom = 10;\n",
    "\n",
    "//# openstreetmap\n",
    "osm = L.tileLayer(osmUrl, {\n",
    "    attribution: osmAttrib,\n",
    "    crs: L.CRS.EPSG4326,\n",
    "    minZoom: minZoom,\n",
    "    maxZoom: maxZoom\n",
    "});\n",
    "\n",
    "//# mapserver\n",
    "ms = L.tileLayer.wms(mapfile_url, {\n",
    "    layers: 'RIO_DE_JANEIRO',\n",
    "    format: 'image/png',\n",
    "    transparent: true,\n",
    "    attribution: \"Info Dengue\",\n",
    "    srs:\"EPSG:4326\",\n",
    "    crs: L.CRS.EPSG4326,\n",
    "    minZoom: minZoom,\n",
    "    maxZoom: maxZoom,\n",
    "});\n",
    "\n",
    "var baseMap = {\n",
    "    \"OSM\": osm\n",
    "};\n",
    "\n",
    "var overlayMaps = {\n",
    "    \"Rio Alerta\": ms\n",
    "};\n",
    "\n",
    "var map = L.map(\n",
    "    'dengue', {\n",
    "        //crs: L.CRS.EPSG4326,\n",
    "        center: new L.LatLng(-22.9192,-43.4441),\n",
    "        zoom: zoom,\n",
    "        layers: [osm]\n",
    "    }\n",
    "); \n",
    "\n",
    "L.control.layers(baseMap, overlayMaps).addTo(map);\n",
    "\n",
    "</script>"
   ]
  },
  {
   "cell_type": "code",
   "execution_count": 20,
   "metadata": {},
   "outputs": [
    {
     "data": {
      "text/html": [
       "<div><h2>dengue-Rio-de-Janeiro.map</h2>&nbsp;</div>\n",
       "\n",
       "<div id=\"dengue_rio\" style=\"height: 400px; width: 800px;\"></div>\n",
       "\n",
       "<link rel=\"stylesheet\" href=\"lib/leaflet/leaflet.css\" />\n",
       "<script type=\"text/javascript\" src=\"lib/leaflet/leaflet.js\"></script>\n",
       "\n",
       "<script>\n",
       "\n",
       "var mapfile_url = (\n",
       "    mapserver_url + '?' + \n",
       "    'map=/maps/dengue-Rio-de-Janeiro.map&' + \n",
       "    'SERVICE=WMS&VERSION=1.1.1&REQUEST=GetMap&LAYERS=RIO_DE_JANEIRO&' +\n",
       "    'STYLES=&SRS=' + crs_proj + '&BBOX=' + extent_url + '&' +\n",
       "    'WIDTH=400&HEIGHT=300&FORMAT=image/png'\n",
       ");\n",
       "\n",
       "console.log(mapfile_url);\n",
       "\n",
       "var osmUrl='http://{s}.tile.openstreetmap.org/{z}/{x}/{y}.png';\n",
       "var osmAttrib = 'Map data © <a href=\"http://openstreetmap.org\">OpenStreetMap</a> contributors';\n",
       "\n",
       "var minZoom = 9;\n",
       "var maxZoom = 11;\n",
       "var zoom = 10;\n",
       "\n",
       "//# openstreetmap\n",
       "osm = L.tileLayer(osmUrl, {\n",
       "    attribution: osmAttrib,\n",
       "    crs: L.CRS.EPSG4326,\n",
       "    minZoom: minZoom,\n",
       "    maxZoom: maxZoom\n",
       "});\n",
       "\n",
       "//# mapserver\n",
       "ms = L.tileLayer.wms(mapfile_url, {\n",
       "    layers: 'RIO_DE_JANEIRO',\n",
       "    format: 'image/png',\n",
       "    transparent: true,\n",
       "    attribution: \"Info Dengue\",\n",
       "    srs:\"EPSG:4326\",\n",
       "    crs: L.CRS.EPSG4326,\n",
       "    minZoom: minZoom,\n",
       "    maxZoom: maxZoom,\n",
       "});\n",
       "\n",
       "var baseMap = {\n",
       "    \"OSM\": osm\n",
       "};\n",
       "\n",
       "var overlayMaps = {\n",
       "    \"Rio Alerta\": ms\n",
       "};\n",
       "\n",
       "var map = L.map(\n",
       "    'dengue_rio', {\n",
       "        //crs: L.CRS.EPSG4326,\n",
       "        center: new L.LatLng(-22.9192,-43.4441),\n",
       "        zoom: zoom,\n",
       "        layers: [osm]\n",
       "    }\n",
       "); \n",
       "\n",
       "L.control.layers(baseMap, overlayMaps).addTo(map);\n",
       "\n",
       "</script>"
      ],
      "text/plain": [
       "<IPython.core.display.HTML object>"
      ]
     },
     "metadata": {},
     "output_type": "display_data"
    }
   ],
   "source": [
    "%%html\n",
    "<div><h2>dengue-Rio-de-Janeiro.map</h2>&nbsp;</div>\n",
    "\n",
    "<div id=\"dengue_rio\" style=\"height: 400px; width: 800px;\"></div>\n",
    "\n",
    "<link rel=\"stylesheet\" href=\"lib/leaflet/leaflet.css\" />\n",
    "<script type=\"text/javascript\" src=\"lib/leaflet/leaflet.js\"></script>\n",
    "\n",
    "<script>\n",
    "\n",
    "var mapfile_url = (\n",
    "    mapserver_url + '?' + \n",
    "    'map=/maps/dengue-Rio-de-Janeiro.map&' + \n",
    "    'SERVICE=WMS&VERSION=1.1.1&REQUEST=GetMap&LAYERS=RIO_DE_JANEIRO&' +\n",
    "    'STYLES=&SRS=' + crs_proj + '&BBOX=' + extent_url + '&' +\n",
    "    'WIDTH=400&HEIGHT=300&FORMAT=image/png'\n",
    ");\n",
    "\n",
    "console.log(mapfile_url);\n",
    "\n",
    "var osmUrl='http://{s}.tile.openstreetmap.org/{z}/{x}/{y}.png';\n",
    "var osmAttrib = 'Map data © <a href=\"http://openstreetmap.org\">OpenStreetMap</a> contributors';\n",
    "\n",
    "var minZoom = 9;\n",
    "var maxZoom = 11;\n",
    "var zoom = 10;\n",
    "\n",
    "//# openstreetmap\n",
    "osm = L.tileLayer(osmUrl, {\n",
    "    attribution: osmAttrib,\n",
    "    crs: L.CRS.EPSG4326,\n",
    "    minZoom: minZoom,\n",
    "    maxZoom: maxZoom\n",
    "});\n",
    "\n",
    "//# mapserver\n",
    "ms = L.tileLayer.wms(mapfile_url, {\n",
    "    layers: 'RIO_DE_JANEIRO',\n",
    "    format: 'image/png',\n",
    "    transparent: true,\n",
    "    attribution: \"Info Dengue\",\n",
    "    srs:\"EPSG:4326\",\n",
    "    crs: L.CRS.EPSG4326,\n",
    "    minZoom: minZoom,\n",
    "    maxZoom: maxZoom,\n",
    "});\n",
    "\n",
    "var baseMap = {\n",
    "    \"OSM\": osm\n",
    "};\n",
    "\n",
    "var overlayMaps = {\n",
    "    \"Rio Alerta\": ms\n",
    "};\n",
    "\n",
    "var map = L.map(\n",
    "    'dengue_rio', {\n",
    "        //crs: L.CRS.EPSG4326,\n",
    "        center: new L.LatLng(-22.9192,-43.4441),\n",
    "        zoom: zoom,\n",
    "        layers: [osm]\n",
    "    }\n",
    "); \n",
    "\n",
    "L.control.layers(baseMap, overlayMaps).addTo(map);\n",
    "\n",
    "</script>"
   ]
  }
 ],
 "metadata": {
  "kernelspec": {
   "display_name": "Python 3",
   "language": "python",
   "name": "python3"
  },
  "language_info": {
   "codemirror_mode": {
    "name": "ipython",
    "version": 3
   },
   "file_extension": ".py",
   "mimetype": "text/x-python",
   "name": "python",
   "nbconvert_exporter": "python",
   "pygments_lexer": "ipython3",
   "version": "3.6.4"
  },
  "latex_envs": {
   "LaTeX_envs_menu_present": true,
   "autocomplete": true,
   "bibliofile": "biblio.bib",
   "cite_by": "apalike",
   "current_citInitial": 1,
   "eqLabelWithNumbers": true,
   "eqNumInitial": 1,
   "hotkeys": {
    "equation": "Ctrl-E",
    "itemize": "Ctrl-I"
   },
   "labels_anchors": false,
   "latex_user_defs": false,
   "report_style_numbering": false,
   "user_envs_cfg": false
  },
  "toc": {
   "nav_menu": {},
   "number_sections": true,
   "sideBar": true,
   "skip_h1_title": true,
   "toc_cell": false,
   "toc_position": {},
   "toc_section_display": "block",
   "toc_window_display": false
  }
 },
 "nbformat": 4,
 "nbformat_minor": 2
}
