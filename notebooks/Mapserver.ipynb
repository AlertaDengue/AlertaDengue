{
 "cells": [
  {
   "cell_type": "markdown",
   "metadata": {},
   "source": [
    "# Mapserver / Mapfile"
   ]
  },
  {
   "cell_type": "code",
   "execution_count": 1,
   "metadata": {},
   "outputs": [],
   "source": [
    "# local\n",
    "from AlertaDengue.dados import dbdata\n",
    "\n",
    "import os\n",
    "import sqlalchemy as sqla\n",
    "# local\n",
    "import AlertaDengue as alert_dengue"
   ]
  },
  {
   "cell_type": "code",
   "execution_count": 2,
   "metadata": {},
   "outputs": [],
   "source": [
    "def get_passwd_from_ini(filepath: str):\n",
    "    with open(filepath) as f:\n",
    "        text = f.read()\n",
    "        i = text.index('PSQL_PASSWORD')\n",
    "        f = text[i:].index('\\n')\n",
    "        passwd = text[i:i+f].split('=')\n",
    "        return passwd[1].strip()"
   ]
  },
  {
   "cell_type": "code",
   "execution_count": 3,
   "metadata": {},
   "outputs": [],
   "source": [
    "# mapfile templates\n",
    "\n",
    "mapfile_template = '''\n",
    "MAP\n",
    "    IMAGETYPE      PNG\n",
    "    EXTENT      -87.93749190049996 -20.493952297946063 -14.892815463099353  7.223000268026496\n",
    " \n",
    "    SIZE           1800 1600\n",
    "    IMAGECOLOR     255 255 255\n",
    "    CONFIG \"MS_ERRORFILE\" \"%(ms_error_path)s\"\n",
    "    CONFIG \"CPL_DEBUG\" \"ON\"\n",
    "    CONFIG \"PROJ_DEBUG\" \"ON\"\n",
    "    DEBUG 5\n",
    "\n",
    "    PROJECTION\n",
    "      \"init=epsg:3857\"\n",
    "    END\n",
    "\n",
    "    WEB\n",
    "      METADATA\n",
    "        \"wms_title\" \"Alerta Dengue\"\n",
    "        \"wms_onlineresource\" \"%(ms_cgi_path)s?\"\n",
    "        \"wms_enable_request\" \"*\"\n",
    "        \"wms_srs\" \"EPSG:3857\"\n",
    "        \"wms_feature_info_mime_type\" \"text/html\"\n",
    "        \"wms_format\" \"image/png\"\n",
    "      END\n",
    "    END\n",
    " \n",
    "    %(layers)s\n",
    " \n",
    "END\n",
    "'''\n",
    "\n",
    "mapfile_layer_template = '''\n",
    "    LAYER\n",
    "        NAME         \"%(city_name)s\"\n",
    "        DATA         \"%(shp_path)s/%(geocode)s\"\n",
    "        STATUS       default\n",
    "        TYPE         POLYGON\n",
    " \n",
    "        CLASS\n",
    "            STYLE\n",
    "                COLOR %(rgb)s\n",
    "            END\n",
    "        END\n",
    "    END\n",
    "'''"
   ]
  },
  {
   "cell_type": "code",
   "execution_count": 4,
   "metadata": {},
   "outputs": [],
   "source": [
    "# set connection\n",
    "\n",
    "db = 'dengue'\n",
    "user = 'dengueadmin'\n",
    "host = 'localhost'\n",
    "passwd = get_passwd_from_ini('../AlertaDengue/AlertaDengue/settings.ini')\n",
    "dsn = \"postgresql://{}:{}@{}/{}\".format(\n",
    "    user, passwd, host, db\n",
    ")\n",
    "\n",
    "engine = sqla.create_engine(dsn)"
   ]
  },
  {
   "cell_type": "code",
   "execution_count": 5,
   "metadata": {},
   "outputs": [],
   "source": [
    "shp_path = '%s/static/shapefile' % alert_dengue.__path__[0]\n",
    "ms_error_path = '/home/xmn/alerta_dengue_ms.log'\n",
    "ms_cgi_path = 'http://localhost:81/cgi-bin/mapserv'\n",
    "ms_mapfile = '%s/mapfiles/alerta_%%s.map' % (\n",
    "    os.path.dirname(alert_dengue.__path__[0])\n",
    ")"
   ]
  },
  {
   "cell_type": "code",
   "execution_count": 6,
   "metadata": {},
   "outputs": [],
   "source": [
    "sql_template = '''\n",
    "SELECT geocodigo, nome, uf \n",
    "FROM \"Dengue_global\".\"Municipio\" \n",
    "WHERE uf = '%s'\n",
    "ORDER BY nome;\n",
    "'''"
   ]
  },
  {
   "cell_type": "code",
   "execution_count": 7,
   "metadata": {},
   "outputs": [],
   "source": [
    "alert_colors = [\n",
    "    '000 255 000',\n",
    "    '255 255 000',\n",
    "    '255 190 000',\n",
    "    '255 000 000',\n",
    "]"
   ]
  },
  {
   "cell_type": "code",
   "execution_count": 8,
   "metadata": {},
   "outputs": [
    {
     "name": "stdout",
     "output_type": "stream",
     "text": [
      "Saving  /home/xmn/dev/AlertaDengue/AlertaDengue/mapfiles/alerta_dengue.map file ...\n",
      "Saving  /home/xmn/dev/AlertaDengue/AlertaDengue/mapfiles/alerta_chikungunya.map file ...\n",
      "[II] DONE!\n"
     ]
    }
   ],
   "source": [
    "layers = {}\n",
    "\n",
    "\n",
    "for disease in ('dengue', 'chikungunya'):\n",
    "    layers[disease] = ''\n",
    "    for state_name in (\n",
    "        'Paraná', 'Rio de Janeiro', 'Ceará', \n",
    "        'Minas Gerais', 'Espírito Santo'\n",
    "    ):\n",
    "        with engine.connect() as conn:\n",
    "            sql = sql_template % state_name\n",
    "            result = conn.execute(sql).fetchall()\n",
    "\n",
    "        cities_alert = dbdata.NotificationResume.get_cities_alert_by_state(\n",
    "            state_name, disease\n",
    "        )\n",
    "\n",
    "        alerts = dict(\n",
    "            cities_alert[['municipio_geocodigo', 'level_alert']].values\n",
    "        )\n",
    "\n",
    "        for geocode, city_name, state_country in result:\n",
    "            alert_level = alerts[geocode] if geocode in alerts else -1\n",
    "            # print(alert_level)\n",
    "            alert_color = (\n",
    "                alert_colors[alert_level] if 0 <= alert_level <= 3 else\n",
    "                '200 200 200'  # gray\n",
    "            )\n",
    "            layer = mapfile_layer_template % {\n",
    "                'geocode': geocode,\n",
    "                'city_name': city_name,\n",
    "                'rgb': alert_color,\n",
    "                'shp_path': shp_path\n",
    "            }\n",
    "\n",
    "            if not os.path.exists('%s/%s.shp' % (shp_path, geocode)):\n",
    "                layer = layer.replace('\\n', '\\n# ') + '\\n'\n",
    "\n",
    "            layers[disease] += layer\n",
    "\n",
    "for k, v in layers.items():\n",
    "    ms_config = {\n",
    "        'layers': v,\n",
    "        'ms_error_path': ms_error_path,\n",
    "        'ms_cgi_path': ms_cgi_path\n",
    "    }\n",
    "    \n",
    "    mapfile = mapfile_template % ms_config\n",
    "    \n",
    "    print('Saving ', ms_mapfile % k, 'file ...')\n",
    "    with open(ms_mapfile % k, 'w') as f:\n",
    "        f.write(mapfile)\n",
    "\n",
    "print('[II] DONE!')"
   ]
  },
  {
   "cell_type": "code",
   "execution_count": 9,
   "metadata": {},
   "outputs": [
    {
     "data": {
      "text/html": [
       "\n",
       "<div id=\"alerta_dengue\" style=\"height: 200px; width: 200px;\"></div>\n",
       "\n",
       "<link rel=\"stylesheet\" \n",
       " href=\"https://cdnjs.cloudflare.com/ajax/libs/leaflet/1.2.0/leaflet.css\" />\n",
       "<script type=\"text/javascript\" \n",
       " src=\"https://cdnjs.cloudflare.com/ajax/libs/leaflet/1.2.0/leaflet.js\">\n",
       "</script>"
      ],
      "text/plain": [
       "<IPython.core.display.HTML object>"
      ]
     },
     "metadata": {},
     "output_type": "display_data"
    }
   ],
   "source": [
    "%%html\n",
    "\n",
    "<div id=\"alerta_dengue\" style=\"height: 200px; width: 200px;\"></div>\n",
    "\n",
    "<link rel=\"stylesheet\" \n",
    " href=\"https://cdnjs.cloudflare.com/ajax/libs/leaflet/1.2.0/leaflet.css\" />\n",
    "<script type=\"text/javascript\" \n",
    " src=\"https://cdnjs.cloudflare.com/ajax/libs/leaflet/1.2.0/leaflet.js\">\n",
    "</script>"
   ]
  },
  {
   "cell_type": "code",
   "execution_count": 10,
   "metadata": {},
   "outputs": [
    {
     "data": {
      "application/javascript": [
       "\n",
       "var mapfile_url = (\n",
       "    'http://localhost:81/cgi-bin/mapserv?' + \n",
       "    'map=/var/www/mapserver/mapfiles/alerta_dengue.map&' + \n",
       "    'mode=map'\n",
       ");\n",
       "\n",
       "var map = L.map('alerta_dengue').setView([51.4, -1.25], 7); \n",
       "\n",
       "L.tileLayer.wms(mapfile_url, {\n",
       "    layers: 'Roads',\n",
       "    format: 'image/png',\n",
       "    transparent: true,\n",
       "    attribution: \"Dan's Amazing Roads\",\n",
       "    maxZoom: 18,\n",
       "    minZoom: 5,\n",
       "}).addTo(map);"
      ],
      "text/plain": [
       "<IPython.core.display.Javascript object>"
      ]
     },
     "metadata": {},
     "output_type": "display_data"
    }
   ],
   "source": [
    "%%javascript\n",
    "\n",
    "var mapfile_url = (\n",
    "    'http://localhost:81/cgi-bin/mapserv?' + \n",
    "    'map=/var/www/mapserver/mapfiles/alerta_dengue.map&' + \n",
    "    'mode=map'\n",
    ");\n",
    "\n",
    "var map = L.map('alerta_dengue').setView([51.4, -1.25], 7); \n",
    "\n",
    "L.tileLayer.wms(mapfile_url, {\n",
    "    layers: 'Roads',\n",
    "    format: 'image/png',\n",
    "    transparent: true,\n",
    "    attribution: \"Dan's Amazing Roads\",\n",
    "    maxZoom: 18,\n",
    "    minZoom: 5,\n",
    "}).addTo(map);"
   ]
  }
 ],
 "metadata": {
  "kernelspec": {
   "display_name": "Python 3",
   "language": "python",
   "name": "python3"
  },
  "language_info": {
   "codemirror_mode": {
    "name": "ipython",
    "version": 3
   },
   "file_extension": ".py",
   "mimetype": "text/x-python",
   "name": "python",
   "nbconvert_exporter": "python",
   "pygments_lexer": "ipython3",
   "version": "3.6.3"
  },
  "latex_envs": {
   "LaTeX_envs_menu_present": true,
   "autocomplete": true,
   "bibliofile": "biblio.bib",
   "cite_by": "apalike",
   "current_citInitial": 1,
   "eqLabelWithNumbers": true,
   "eqNumInitial": 1,
   "hotkeys": {
    "equation": "Ctrl-E",
    "itemize": "Ctrl-I"
   },
   "labels_anchors": false,
   "latex_user_defs": false,
   "report_style_numbering": false,
   "user_envs_cfg": false
  },
  "toc": {
   "nav_menu": {},
   "number_sections": true,
   "sideBar": true,
   "skip_h1_title": true,
   "toc_cell": false,
   "toc_position": {},
   "toc_section_display": "block",
   "toc_window_display": false
  }
 },
 "nbformat": 4,
 "nbformat_minor": 2
}
