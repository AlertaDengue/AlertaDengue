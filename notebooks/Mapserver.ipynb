{
 "cells": [
  {
   "cell_type": "markdown",
   "metadata": {},
   "source": [
    "# Mapserver / Mapfile"
   ]
  },
  {
   "cell_type": "code",
   "execution_count": 1,
   "metadata": {},
   "outputs": [],
   "source": [
    "# local\n",
    "from AlertaDengue.dados import dbdata\n",
    "\n",
    "import os\n",
    "import sqlalchemy as sqla\n",
    "# local\n",
    "import AlertaDengue as alert_dengue"
   ]
  },
  {
   "cell_type": "code",
   "execution_count": 2,
   "metadata": {},
   "outputs": [],
   "source": [
    "def get_passwd_from_ini(filepath: str):\n",
    "    with open(filepath) as f:\n",
    "        text = f.read()\n",
    "        i = text.index('PSQL_PASSWORD')\n",
    "        f = text[i:].index('\\n')\n",
    "        passwd = text[i:i+f].split('=')\n",
    "        return passwd[1].strip()\n",
    "    "
   ]
  },
  {
   "cell_type": "markdown",
   "metadata": {},
   "source": [
    "## DB connection"
   ]
  },
  {
   "cell_type": "code",
   "execution_count": 3,
   "metadata": {},
   "outputs": [],
   "source": [
    "db = 'dengue'\n",
    "user = 'dengueadmin'\n",
    "host = 'localhost'\n",
    "passwd = get_passwd_from_ini('../AlertaDengue/AlertaDengue/settings.ini')\n",
    "dsn = \"postgresql://{}:{}@{}/{}\".format(\n",
    "    user, passwd, host, db\n",
    ")\n",
    "\n",
    "engine = sqla.create_engine(dsn)"
   ]
  },
  {
   "cell_type": "markdown",
   "metadata": {},
   "source": [
    "## Mapfile"
   ]
  },
  {
   "cell_type": "markdown",
   "metadata": {},
   "source": [
    "### Templates"
   ]
  },
  {
   "cell_type": "code",
   "execution_count": 59,
   "metadata": {},
   "outputs": [],
   "source": [
    "# mapfile templates\n",
    "\n",
    "mapfile_template = '''\n",
    "MAP\n",
    "    IMAGETYPE      png\n",
    "    EXTENT      -87.93749190049996 -20.493952297946063 -14.892815463099353  7.223000268026496\n",
    " \n",
    "    SIZE           1800 1600\n",
    "    IMAGECOLOR     0 0 0\n",
    "    CONFIG \"MS_ERRORFILE\" \"%(ms_error_path)s\"\n",
    "    CONFIG \"CPL_DEBUG\" \"ON\"\n",
    "    CONFIG \"PROJ_DEBUG\" \"ON\"\n",
    "    DEBUG 5\n",
    "    \n",
    "    OUTPUTFORMAT\n",
    "      NAME \"GTiff\"\n",
    "      DRIVER GDAL/GTiff\n",
    "      MIMETYPE \"image/tiff\"\n",
    "      IMAGEMODE RGBA\n",
    "      EXTENSION \"tif\"\n",
    "    END\n",
    "    OUTPUTFORMAT\n",
    "      NAME \"kml\"\n",
    "      DRIVER KML\n",
    "      MIMETYPE \"application/vnd.google-earth.kml.xml\"\n",
    "      IMAGEMODE RGBA\n",
    "      EXTENSION \"kml\"\n",
    "    END\n",
    "\n",
    "    PROJECTION\n",
    "      \"init=epsg:4326\"\n",
    "    END\n",
    "\n",
    "    WEB\n",
    "      METADATA\n",
    "        \"wms_title\" \"Alerta Dengue\"\n",
    "        \"wms_onlineresource\" \"%(ms_cgi_path)s\"\n",
    "        \"wms_enable_request\" \"*\"\n",
    "        \"wms_srs\" \"EPSG:4326\"\n",
    "        \"wms_feature_info_mime_type\" \"text/html\"\n",
    "        \"wms_format\" \"image/png\"\n",
    "      END\n",
    "    END\n",
    " \n",
    "    %(layers)s\n",
    " \n",
    "END\n",
    "'''\n",
    "\n",
    "mapfile_layer_template = '''\n",
    "    LAYER\n",
    "        NAME         \"%(city_name)s\"\n",
    "        DATA         \"%(shp_path)s/%(geocode)s\"\n",
    "        STATUS       ON\n",
    "        TYPE         POLYGON\n",
    "        OFFSITE      0 0 0\n",
    "        \n",
    "        PROJECTION\n",
    "          \"init=epsg:4326\"\n",
    "        END\n",
    "        \n",
    "        METADATA\n",
    "          \"wms_srs\" \"EPSG:4326\"\n",
    "        END\n",
    "        \n",
    "        COMPOSITE\n",
    "            OPACITY 70\n",
    "        END # COMPOSITE\n",
    " \n",
    "        CLASS\n",
    "            STYLE\n",
    "                COLOR %(rgb)s\n",
    "            END\n",
    "        END\n",
    "    END\n",
    "'''"
   ]
  },
  {
   "cell_type": "markdown",
   "metadata": {},
   "source": [
    "### Setting variables"
   ]
  },
  {
   "cell_type": "code",
   "execution_count": 60,
   "metadata": {},
   "outputs": [],
   "source": [
    "shp_path = '%s/static/shapefile' % alert_dengue.__path__[0]\n",
    "ms_error_path = '/home/xmn/alerta_dengue_ms.log'\n",
    "ms_cgi_path = 'http://localhost:81/cgi-bin/mapserv?map=%s&'\n",
    "ms_mapfile_name = 'alerta_%s.map'\n",
    "ms_mapfile_dir = '%s/mapfiles/%%s' % (\n",
    "    os.path.dirname(alert_dengue.__path__[0])\n",
    ")"
   ]
  },
  {
   "cell_type": "code",
   "execution_count": 6,
   "metadata": {},
   "outputs": [],
   "source": [
    "alert_colors = [\n",
    "    '000 255 000',\n",
    "    '255 255 000',\n",
    "    '255 190 000',\n",
    "    '255 000 000',\n",
    "]"
   ]
  },
  {
   "cell_type": "markdown",
   "metadata": {},
   "source": [
    "### Generating the mapfile"
   ]
  },
  {
   "cell_type": "code",
   "execution_count": 7,
   "metadata": {},
   "outputs": [],
   "source": [
    "sql_template = '''\n",
    "SELECT geocodigo, nome, uf \n",
    "FROM \"Dengue_global\".\"Municipio\" \n",
    "WHERE uf = '%s'\n",
    "ORDER BY nome;\n",
    "'''"
   ]
  },
  {
   "cell_type": "code",
   "execution_count": 29,
   "metadata": {},
   "outputs": [],
   "source": [
    "state_initials = {\n",
    "    'Paraná': 'PR', \n",
    "    'Rio de Janeiro': 'RJ', \n",
    "    'Ceará': 'CE', \n",
    "    'Minas Gerais': 'MG', \n",
    "    'Espírito Santo': 'ES'\n",
    "}"
   ]
  },
  {
   "cell_type": "code",
   "execution_count": 61,
   "metadata": {},
   "outputs": [
    {
     "name": "stdout",
     "output_type": "stream",
     "text": [
      "Saving  /home/xmn/dev/AlertaDengue/AlertaDengue/mapfiles/alerta_dengue_PR.map file ...\n",
      "Saving  /home/xmn/dev/AlertaDengue/AlertaDengue/mapfiles/alerta_dengue_RJ.map file ...\n",
      "Saving  /home/xmn/dev/AlertaDengue/AlertaDengue/mapfiles/alerta_dengue_CE.map file ...\n",
      "Saving  /home/xmn/dev/AlertaDengue/AlertaDengue/mapfiles/alerta_dengue_MG.map file ...\n",
      "Saving  /home/xmn/dev/AlertaDengue/AlertaDengue/mapfiles/alerta_dengue_ES.map file ...\n",
      "Saving  /home/xmn/dev/AlertaDengue/AlertaDengue/mapfiles/alerta_dengue.map file ...\n",
      "Saving  /home/xmn/dev/AlertaDengue/AlertaDengue/mapfiles/alerta_chikungunya_PR.map file ...\n",
      "Saving  /home/xmn/dev/AlertaDengue/AlertaDengue/mapfiles/alerta_chikungunya_RJ.map file ...\n",
      "Saving  /home/xmn/dev/AlertaDengue/AlertaDengue/mapfiles/alerta_chikungunya_CE.map file ...\n",
      "Saving  /home/xmn/dev/AlertaDengue/AlertaDengue/mapfiles/alerta_chikungunya_MG.map file ...\n",
      "Saving  /home/xmn/dev/AlertaDengue/AlertaDengue/mapfiles/alerta_chikungunya_ES.map file ...\n",
      "Saving  /home/xmn/dev/AlertaDengue/AlertaDengue/mapfiles/alerta_chikungunya.map file ...\n",
      "[II] DONE!\n"
     ]
    }
   ],
   "source": [
    "layers = {}\n",
    "\n",
    "for disease in ('dengue', 'chikungunya'):\n",
    "    layers[disease] = {}\n",
    "    for state_name in state_initials.keys():\n",
    "        with engine.connect() as conn:\n",
    "            sql = sql_template % state_name\n",
    "            result = conn.execute(sql).fetchall()\n",
    "\n",
    "        cities_alert = dbdata.NotificationResume.get_cities_alert_by_state(\n",
    "            state_name, disease\n",
    "        )\n",
    "\n",
    "        alerts = dict(\n",
    "            cities_alert[['municipio_geocodigo', 'level_alert']].values\n",
    "        )\n",
    "        \n",
    "        layers[disease][state_name] = ''\n",
    "\n",
    "        for geocode, city_name, state_country in result:\n",
    "            alert_level = alerts[geocode] if geocode in alerts else -1\n",
    "            # print(alert_level)\n",
    "            alert_color = (\n",
    "                alert_colors[alert_level] if 0 <= alert_level <= 3 else\n",
    "                '200 200 200'  # gray\n",
    "            )\n",
    "            layer = mapfile_layer_template % {\n",
    "                'geocode': geocode,\n",
    "                'city_name': city_name,\n",
    "                'rgb': alert_color,\n",
    "                'shp_path': shp_path\n",
    "            }\n",
    "            \n",
    "            if not os.path.exists('%s/%s.shp' % (shp_path, geocode)):\n",
    "                layer = layer.replace('\\n', '\\n# ') + '\\n'\n",
    "\n",
    "            layers[disease][state_name] += layer\n",
    "\n",
    "for k_disease, states_layer in layers.items():\n",
    "    layers = ''\n",
    "    for state_name, layer in states_layer.items():\n",
    "        # save for individual state\n",
    "        _ms_mapfile_name = ms_mapfile_name % (\n",
    "            '%s_%s' % (k_disease, state_initials[state_name])\n",
    "        )\n",
    "        _ms_mapfile = ms_mapfile_dir % _ms_mapfile_name\n",
    "        \n",
    "        ms_config = {\n",
    "            'layers': layer,\n",
    "            'ms_error_path': ms_error_path,\n",
    "            'ms_cgi_path': ms_cgi_path % _ms_mapfile\n",
    "        }\n",
    "\n",
    "        mapfile = mapfile_template % ms_config\n",
    "\n",
    "        print('Saving ', _ms_mapfile, 'file ...')\n",
    "        with open(_ms_mapfile, 'w') as f:\n",
    "            f.write(mapfile)\n",
    "        # join layers from all states\n",
    "        layers += layer\n",
    "    \n",
    "    _ms_mapfile_name = ms_mapfile_name % k_disease\n",
    "    _ms_mapfile = ms_mapfile_dir % _ms_mapfile_name\n",
    "    \n",
    "    ms_config = {\n",
    "        'layers': layers,\n",
    "        'ms_error_path': ms_error_path,\n",
    "        'ms_cgi_path': ms_cgi_path % _ms_mapfile\n",
    "    }\n",
    "    \n",
    "    mapfile = mapfile_template % ms_config\n",
    "    \n",
    "    print('Saving ', _ms_mapfile, 'file ...')\n",
    "    with open(_ms_mapfile, 'w') as f:\n",
    "        f.write(mapfile)\n",
    "\n",
    "print('[II] DONE!')"
   ]
  },
  {
   "cell_type": "markdown",
   "metadata": {},
   "source": [
    "## Visualizing the map"
   ]
  },
  {
   "cell_type": "code",
   "execution_count": 62,
   "metadata": {},
   "outputs": [
    {
     "data": {
      "text/html": [
       "\n",
       "<div id=\"alerta_dengue\" style=\"height: 400px; width: 800px;\"></div>\n",
       "\n",
       "<link rel=\"stylesheet\" href=\"lib/leaflet/leaflet.css\" />\n",
       "<script type=\"text/javascript\" src=\"lib/leaflet/leaflet.js\"></script>\n",
       "\n",
       "<script>\n",
       "\n",
       "var mapfile_url = (\n",
       "    'http://localhost:81/cgi-bin/mapserv?' + \n",
       "    'map=/var/www/mapserver/mapfiles/alerta_dengue.map&' + \n",
       "    'mode=map'\n",
       ");\n",
       "\n",
       "var map = L.map('alerta_dengue').setView([-14.01,-53.96], 4); \n",
       "\n",
       "\n",
       "var osmUrl='http://{s}.tile.openstreetmap.org/{z}/{x}/{y}.png';\n",
       "var osmAttrib = 'Map data © <a href=\"http://openstreetmap.org\">OpenStreetMap</a> contributors';\n",
       "\n",
       "L.tileLayer(osmUrl, {\n",
       "    minZoom: 4, \n",
       "    maxZoom: 10, \n",
       "    attribution: osmAttrib\n",
       "}).addTo(map);\n",
       "\n",
       "L.tileLayer.wms(mapfile_url, {\n",
       "    layers: 'Roads',\n",
       "    format: 'image/png',\n",
       "    transparent: true,\n",
       "    attribution: \"Info Dengue\",\n",
       "    maxZoom: 10,\n",
       "    minZoom: 4,\n",
       "}).addTo(map);\n",
       "\n",
       "</script>"
      ],
      "text/plain": [
       "<IPython.core.display.HTML object>"
      ]
     },
     "metadata": {},
     "output_type": "display_data"
    }
   ],
   "source": [
    "%%html\n",
    "\n",
    "<div id=\"alerta_dengue\" style=\"height: 400px; width: 800px;\"></div>\n",
    "\n",
    "<link rel=\"stylesheet\" href=\"lib/leaflet/leaflet.css\" />\n",
    "<script type=\"text/javascript\" src=\"lib/leaflet/leaflet.js\"></script>\n",
    "\n",
    "<script>\n",
    "\n",
    "var mapfile_url = (\n",
    "    'http://localhost:81/cgi-bin/mapserv?' + \n",
    "    'map=/var/www/mapserver/mapfiles/alerta_dengue.map&' + \n",
    "    'mode=map'\n",
    ");\n",
    "\n",
    "var map = L.map('alerta_dengue').setView([-14.01,-53.96], 4); \n",
    "\n",
    "\n",
    "var osmUrl='http://{s}.tile.openstreetmap.org/{z}/{x}/{y}.png';\n",
    "var osmAttrib = 'Map data © <a href=\"http://openstreetmap.org\">OpenStreetMap</a> contributors';\n",
    "\n",
    "L.tileLayer(osmUrl, {\n",
    "    minZoom: 4, \n",
    "    maxZoom: 10, \n",
    "    attribution: osmAttrib\n",
    "}).addTo(map);\n",
    "\n",
    "L.tileLayer.wms(mapfile_url, {\n",
    "    layers: 'Roads',\n",
    "    format: 'image/png',\n",
    "    transparent: true,\n",
    "    attribution: \"Info Dengue\",\n",
    "    maxZoom: 10,\n",
    "    minZoom: 4,\n",
    "}).addTo(map);\n",
    "\n",
    "</script>"
   ]
  }
 ],
 "metadata": {
  "kernelspec": {
   "display_name": "Python 3",
   "language": "python",
   "name": "python3"
  },
  "language_info": {
   "codemirror_mode": {
    "name": "ipython",
    "version": 3
   },
   "file_extension": ".py",
   "mimetype": "text/x-python",
   "name": "python",
   "nbconvert_exporter": "python",
   "pygments_lexer": "ipython3",
   "version": "3.6.3"
  },
  "latex_envs": {
   "LaTeX_envs_menu_present": true,
   "autocomplete": true,
   "bibliofile": "biblio.bib",
   "cite_by": "apalike",
   "current_citInitial": 1,
   "eqLabelWithNumbers": true,
   "eqNumInitial": 1,
   "hotkeys": {
    "equation": "Ctrl-E",
    "itemize": "Ctrl-I"
   },
   "labels_anchors": false,
   "latex_user_defs": false,
   "report_style_numbering": false,
   "user_envs_cfg": false
  },
  "toc": {
   "nav_menu": {},
   "number_sections": true,
   "sideBar": true,
   "skip_h1_title": true,
   "toc_cell": false,
   "toc_position": {},
   "toc_section_display": "block",
   "toc_window_display": false
  }
 },
 "nbformat": 4,
 "nbformat_minor": 2
}
