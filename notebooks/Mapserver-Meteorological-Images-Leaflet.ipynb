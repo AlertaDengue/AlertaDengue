{
 "cells": [
  {
   "cell_type": "markdown",
   "metadata": {},
   "source": [
    "# Mapserver - Meteorological Images - Leaflet"
   ]
  },
  {
   "cell_type": "code",
   "execution_count": 1,
   "metadata": {
    "scrolled": true
   },
   "outputs": [],
   "source": [
    "from IPython.display import display, HTML\n",
    "from matplotlib import pyplot as plt\n",
    "# local\n",
    "# python setup.py develop\n",
    "from AlertaDengue.settings import (\n",
    "    MAPSERVER_URL, RASTER_PATH, RASTER_METEROLOGICAL_DATA_RANGE\n",
    ")\n",
    "import fiona\n",
    "import geopandas as gpd\n",
    "import os\n",
    "import rasterio\n",
    "import rasterio.plot\n",
    "# local\n",
    "# python setup.py develop\n",
    "import AlertaDengue as alert_dengue"
   ]
  },
  {
   "cell_type": "markdown",
   "metadata": {},
   "source": [
    "## Setting variables"
   ]
  },
  {
   "cell_type": "code",
   "execution_count": 2,
   "metadata": {},
   "outputs": [],
   "source": [
    "# raster and shapefile\n",
    "shp_path = '%s/static/shapefile' % os.path.dirname(alert_dengue.__path__[0])\n",
    "raster_dir_path = RASTER_PATH\n",
    "\n",
    "local_mapfile_dir = '%s/mapfiles/%%s' % (\n",
    "    os.path.dirname(alert_dengue.__path__[0])\n",
    ")\n",
    "\n",
    "data_range = RASTER_METEROLOGICAL_DATA_RANGE\n",
    "vmin, vmax = data_range['ndvi']"
   ]
  },
  {
   "cell_type": "code",
   "execution_count": 3,
   "metadata": {},
   "outputs": [],
   "source": [
    "# mapserver variables\n",
    "ms_shp_path = '/tiffs/'\n",
    "ms_error_path = '/var/log/mapserver.log'\n",
    "ms_cgi_path = MAPSERVER_URL + '?map=%s&'\n",
    "ms_mapfile_name = '%s.map'\n",
    "ms_mapfile_dir = '/maps/%s'"
   ]
  },
  {
   "cell_type": "code",
   "execution_count": 4,
   "metadata": {},
   "outputs": [],
   "source": [
    "# Rio de Janeiro's conf\n",
    "geocode = 3304557\n",
    "city_name = 'Rio de Janeiro'\n",
    "disease = 'dengue'"
   ]
  },
  {
   "cell_type": "markdown",
   "metadata": {},
   "source": [
    "## Check Shapefile"
   ]
  },
  {
   "cell_type": "code",
   "execution_count": 5,
   "metadata": {},
   "outputs": [
    {
     "data": {
      "image/png": "[encoded data removed]",
      "text/plain": [
       "<matplotlib.figure.Figure at 0x7fe8f61bb470>"
      ]
     },
     "metadata": {},
     "output_type": "display_data"
    }
   ],
   "source": [
    "shapefile_path = os.path.join(shp_path, '%s.shp' % geocode)\n",
    "gdf = gpd.GeoDataFrame.from_file(shapefile_path)\n",
    "gdf.plot()\n",
    "\n",
    "plt.grid(True)\n",
    "plt.show()"
   ]
  },
  {
   "cell_type": "code",
   "execution_count": 6,
   "metadata": {},
   "outputs": [
    {
     "data": {
      "text/html": [
       "<div>\n",
       "<style scoped>\n",
       "    .dataframe tbody tr th:only-of-type {\n",
       "        vertical-align: middle;\n",
       "    }\n",
       "\n",
       "    .dataframe tbody tr th {\n",
       "        vertical-align: top;\n",
       "    }\n",
       "\n",
       "    .dataframe thead th {\n",
       "        text-align: right;\n",
       "    }\n",
       "</style>\n",
       "<table border=\"1\" class=\"dataframe\">\n",
       "  <thead>\n",
       "    <tr style=\"text-align: right;\">\n",
       "      <th></th>\n",
       "      <th>minx</th>\n",
       "      <th>miny</th>\n",
       "      <th>maxx</th>\n",
       "      <th>maxy</th>\n",
       "    </tr>\n",
       "  </thead>\n",
       "  <tbody>\n",
       "    <tr>\n",
       "      <th>0</th>\n",
       "      <td>-43.796539</td>\n",
       "      <td>-23.082893</td>\n",
       "      <td>-43.099039</td>\n",
       "      <td>-22.74602</td>\n",
       "    </tr>\n",
       "  </tbody>\n",
       "</table>\n",
       "</div>"
      ],
      "text/plain": [
       "        minx       miny       maxx      maxy\n",
       "0 -43.796539 -23.082893 -43.099039 -22.74602"
      ]
     },
     "execution_count": 6,
     "metadata": {},
     "output_type": "execute_result"
    }
   ],
   "source": [
    "# boundaries\n",
    "gdf.bounds"
   ]
  },
  {
   "cell_type": "code",
   "execution_count": 7,
   "metadata": {},
   "outputs": [],
   "source": [
    "bounds = gdf.bounds.iloc[0].values\n",
    "str_boundaries = [str(v) for v in bounds]\n",
    "extent = ' '.join(str_boundaries)\n",
    "extent_url = ','.join(str_boundaries)"
   ]
  },
  {
   "cell_type": "code",
   "execution_count": 8,
   "metadata": {},
   "outputs": [
    {
     "data": {
      "text/plain": [
       "{'init': 'epsg:4326'}"
      ]
     },
     "execution_count": 8,
     "metadata": {},
     "output_type": "execute_result"
    }
   ],
   "source": [
    "# crs/srs\n",
    "gdf.crs"
   ]
  },
  {
   "cell_type": "code",
   "execution_count": 9,
   "metadata": {},
   "outputs": [],
   "source": [
    "crs_proj = gdf.crs['init']\n",
    "wms_srs = crs_proj.upper()"
   ]
  },
  {
   "cell_type": "markdown",
   "metadata": {},
   "source": [
    "## Check GeoTIFF"
   ]
  },
  {
   "cell_type": "code",
   "execution_count": 10,
   "metadata": {},
   "outputs": [
    {
     "data": {
      "image/png": "[encoded data removed]",
      "text/plain": [
       "<matplotlib.figure.Figure at 0x7fe8f61d26d8>"
      ]
     },
     "metadata": {},
     "output_type": "display_data"
    }
   ],
   "source": [
    "raster_file_path = os.path.join(\n",
    "    raster_dir_path, 'meteorological', 'city', 'ndvi', \n",
    "    '3304557', '20101219.tif'\n",
    ")\n",
    "\n",
    "with rasterio.open(raster_file_path) as raster:\n",
    "    rasterio.plot.show(\n",
    "        (raster, 1), with_bounds=True, \n",
    "        vmin=vmin, vmax=vmax\n",
    "    )"
   ]
  },
  {
   "cell_type": "markdown",
   "metadata": {},
   "source": [
    "## Visualize raster images"
   ]
  },
  {
   "cell_type": "code",
   "execution_count": 11,
   "metadata": {},
   "outputs": [
    {
     "data": {
      "text/plain": [
       "[[-43.79653853090349, -23.0828926973403],\n",
       " [-43.09903940038369, -22.746020285810395]]"
      ]
     },
     "execution_count": 11,
     "metadata": {},
     "output_type": "execute_result"
    }
   ],
   "source": [
    "# raster_layer_bounds\n",
    "# BoundingBox(\n",
    "#  left=-74.02117941144857, \n",
    "#  bottom=-33.776654682894005, \n",
    "#  right=-34.76480149542548, \n",
    "#  top=5.300060176305177)\n",
    "# leaflet bounds ex: [[40.712216, -74.22655], [40.773941, -74.12544]];\n",
    "raster_layer_bounds = [[bounds[0], bounds[1]], [bounds[2], bounds[3]]]\n",
    "raster_layer_bounds"
   ]
  },
  {
   "cell_type": "markdown",
   "metadata": {},
   "source": [
    "## Visualizing the map"
   ]
  },
  {
   "cell_type": "code",
   "execution_count": 12,
   "metadata": {},
   "outputs": [
    {
     "data": {
      "text/html": [
       "\n",
       "<script type=\"text/javascript\">\n",
       "    var extent_url = '-43.79653853090349,-23.0828926973403,-43.09903940038369,-22.746020285810395';\n",
       "    var crs_proj = 'epsg:4326';\n",
       "    var raster_layer_bounds = [[-43.79653853090349, -23.0828926973403], [-43.09903940038369, -22.746020285810395]];\n",
       "    var mapserverURL = 'http://172.17.0.2:80';\n",
       "</script>\n"
      ],
      "text/plain": [
       "<IPython.core.display.HTML object>"
      ]
     },
     "execution_count": 12,
     "metadata": {},
     "output_type": "execute_result"
    }
   ],
   "source": [
    "HTML('''\n",
    "<script type=\"text/javascript\">\n",
    "    var extent_url = '%s';\n",
    "    var crs_proj = '%s';\n",
    "    var raster_layer_bounds = %s;\n",
    "    var mapserverURL = '%s';\n",
    "</script>\n",
    "''' % (extent_url, crs_proj, raster_layer_bounds, MAPSERVER_URL))"
   ]
  },
  {
   "cell_type": "code",
   "execution_count": 13,
   "metadata": {
    "scrolled": false
   },
   "outputs": [
    {
     "data": {
      "text/html": [
       "\n",
       "<style>\n",
       "\n",
       ".legend {\n",
       "    line-height: 18px;\n",
       "    color: #555;\n",
       "}\n",
       "\n",
       ".legend i {\n",
       "    width: 18px;\n",
       "    height: 18px;\n",
       "    float: left;\n",
       "    margin-right: 8px;\n",
       "    opacity: 0.7;\n",
       "}\n",
       "\n",
       "</style>\n",
       "\n",
       "<div id=\"alerta_dengue\" style=\"height: 400px; width: 800px;\"></div>\n",
       "\n",
       "<link rel=\"stylesheet\" href=\"lib/leaflet/leaflet.css\" />\n",
       "<script type=\"text/javascript\" src=\"lib/leaflet/leaflet.js\"></script>\n",
       "\n",
       "<script>\n",
       "\n",
       "var url_crs_proj = crs_proj.toUpperCase() == 'EPSG:4326' ? 'CRS:84' : crs_proj;\n",
       "\n",
       "var mapfile_url = (\n",
       "    mapserverURL + '?map=/maps/alert/dengue.map&' + \n",
       "    'SERVICE=WMS&VERSION=1.3.0&REQUEST=GetMap&LAYERS=RIO_DE_JANEIRO&' +\n",
       "    'STYLES=&CRS=CRS:84&BBOX=' + extent_url + '&' +\n",
       "    'WIDTH=800&HEIGHT=400&FORMAT=image/png'\n",
       ");\n",
       "console.log(mapfile_url);\n",
       "\n",
       "var mapfile_raster_url = (\n",
       "    mapserverURL + '?map=/maps/meteorological/%(map_name)s.map&' + \n",
       "    'SERVICE=WMS&VERSION=1.3.0&REQUEST=GetMap&LAYERS=RIO_DE_JANEIRO&' +\n",
       "    'STYLES=&CRS=CRS:84&BBOX=' + extent_url + '&' +\n",
       "    'WIDTH=800&HEIGHT=400&FORMAT=image/png'\n",
       ");\n",
       "console.log(mapfile_raster_url);\n",
       "\n",
       "var osmUrl='http://{s}.tile.openstreetmap.org/{z}/{x}/{y}.png';\n",
       "var osmAttrib = 'Map data © <a href=\"http://openstreetmap.org\">OpenStreetMap</a> contributors';\n",
       "\n",
       "var raster_url = '';\n",
       "var raster_layer;\n",
       "var geocode = '3304557';\n",
       "\n",
       "var minZoom = 9;\n",
       "var maxZoom = 11;\n",
       "var zoom = 10;\n",
       "\n",
       "//# openstreetmap\n",
       "var osm = L.tileLayer(osmUrl, {\n",
       "    attribution: osmAttrib,\n",
       "    crs: L.CRS.EPSG4326,\n",
       "    minZoom: minZoom,\n",
       "    maxZoom: maxZoom\n",
       "});\n",
       "\n",
       "var baseMap = {\"OSM\": osm};\n",
       "\n",
       "var map = L.map(\n",
       "    'alerta_dengue', {\n",
       "        //crs: L.CRS.EPSG4326,\n",
       "        center: new L.LatLng(-22.9192,-43.4441),\n",
       "        zoom: zoom,\n",
       "        layers: [osm]\n",
       "    }\n",
       "); \n",
       "\n",
       "//# mapserver shapefile\n",
       "var ms_shapefile = L.tileLayer.wms(mapfile_url, {\n",
       "    layers: 'RIO_DE_JANEIRO',\n",
       "    format: 'image/png',\n",
       "    transparent: true,\n",
       "    attribution: \"Info Dengue\",\n",
       "    srs:\"EPSG:4326\",\n",
       "    crs: L.CRS.EPSG4326,\n",
       "    minZoom: minZoom,\n",
       "    maxZoom: maxZoom,\n",
       "});\n",
       "\n",
       "//# mapserver raster\n",
       "var raster_conf = {\n",
       "    layers: 'RIO_DE_JANEIRO',\n",
       "    format: 'image/png',\n",
       "    transparent: true,\n",
       "    attribution: \"Info Dengue\",\n",
       "    srs:\"EPSG:4326\",\n",
       "    crs: L.CRS.EPSG4326,\n",
       "    minZoom: minZoom,\n",
       "    maxZoom: maxZoom,\n",
       "};\n",
       "\n",
       "var ms_rasters = {\n",
       "    'NDVI': null,\n",
       "    'LST_Day_1km': null,\n",
       "    'LST_Night_1km': null,\n",
       "    'relative_humidity_2m_above_ground': null,\n",
       "    'specific_humidity_2m_above_ground': null,\n",
       "    'Precipitation': null\n",
       "}\n",
       "\n",
       "var raster_name;\n",
       "var overlayMaps = {\n",
       "    'Rio de Janeiro': ms_shapefile,\n",
       "};\n",
       "\n",
       "var url = '';\n",
       "for (raster_name in ms_rasters){\n",
       "    url = mapfile_raster_url.replace('%(map_name)s', raster_name.toLowerCase());\n",
       "    console.log(url);\n",
       "    ms_rasters[raster_name] = L.tileLayer.wms(url, raster_conf);\n",
       "    overlayMaps[raster_name] = ms_rasters[raster_name];\n",
       "}\n",
       "\n",
       "ms_shapefile.addTo(map);\n",
       "\n",
       "// L.control.layers(baseMap, overlayMaps).addTo(map);\n",
       "\n",
       "var legend = L.control({position: 'bottomright'});\n",
       "\n",
       "legend.onAdd = function (map) {\n",
       "    var div = L.DomUtil.create('div', 'info legend');\n",
       "\n",
       "    div.innerHTML += (\n",
       "        '<table>' +\n",
       "        '  <tr>' +\n",
       "        '    <td style=\"vertical-align:top;\">máx.</td>' + \n",
       "        '    <td rowspan=\"2\"><img src=\"img/symbols/colorbar.png\" /></td>' +\n",
       "        '  </tr>' + \n",
       "        '  <tr>' + \n",
       "        '    <td style=\"vertical-align:bottom;background-color:#ffffff!important;\">mín.</td>' +\n",
       "        '  </tr>' + \n",
       "        '</table>'\n",
       "    );\n",
       "\n",
       "    return div;\n",
       "};\n",
       "\n",
       "legend.addTo(map);\n",
       "\n",
       "var layer_control = L.control({position: 'topright'});\n",
       "\n",
       "layer_control.onAdd = function (map) {\n",
       "    var div = L.DomUtil.create('div', 'info legend');\n",
       "    var radio_template = (\n",
       "        '<input type=\"radio\" name=\"switch_layer\" ' +\n",
       "        '       onclick=\"switchLayer(\\'layer_name\\')\" /> layer_name <br/>'\n",
       "    );\n",
       "    \n",
       "    var content = '';\n",
       "    content += (\n",
       "        '<div style=\"background-color:#ffffff!important;' +\n",
       "        'padding:10px;border:#CCCCCC solid 1px;' +\n",
       "        'font-size:10px;' +\n",
       "        '\">'\n",
       "    );\n",
       "    for (raster_name in ms_rasters){\n",
       "        content += radio_template.replace(/layer_name/g, raster_name);\n",
       "    }\n",
       "    content += '</div>';\n",
       "    div.innerHTML += content;\n",
       "\n",
       "    return div;\n",
       "};\n",
       "\n",
       "layer_control.addTo(map);\n",
       "\n",
       "function switchLayer(layer_name) {\n",
       "    for (raster_name in ms_rasters){\n",
       "        map.removeLayer(ms_rasters[raster_name]);\n",
       "    }\n",
       "    \n",
       "    ms_rasters[layer_name].addTo(map);\n",
       "}\n",
       "\n",
       "</script>"
      ],
      "text/plain": [
       "<IPython.core.display.HTML object>"
      ]
     },
     "metadata": {},
     "output_type": "display_data"
    }
   ],
   "source": [
    "%%html\n",
    "\n",
    "<style>\n",
    "\n",
    ".legend {\n",
    "    line-height: 18px;\n",
    "    color: #555;\n",
    "}\n",
    "\n",
    ".legend i {\n",
    "    width: 18px;\n",
    "    height: 18px;\n",
    "    float: left;\n",
    "    margin-right: 8px;\n",
    "    opacity: 0.7;\n",
    "}\n",
    "\n",
    "</style>\n",
    "\n",
    "<div id=\"alerta_dengue\" style=\"height: 400px; width: 800px;\"></div>\n",
    "\n",
    "<link rel=\"stylesheet\" href=\"lib/leaflet/leaflet.css\" />\n",
    "<script type=\"text/javascript\" src=\"lib/leaflet/leaflet.js\"></script>\n",
    "\n",
    "<script>\n",
    "\n",
    "var url_crs_proj = crs_proj.toUpperCase() == 'EPSG:4326' ? 'CRS:84' : crs_proj;\n",
    "\n",
    "var mapfile_url = (\n",
    "    mapserverURL + '?map=/maps/alert/dengue.map&' + \n",
    "    'SERVICE=WMS&VERSION=1.3.0&REQUEST=GetMap&LAYERS=RIO_DE_JANEIRO&' +\n",
    "    'STYLES=&CRS=CRS:84&BBOX=' + extent_url + '&' +\n",
    "    'WIDTH=800&HEIGHT=400&FORMAT=image/png'\n",
    ");\n",
    "console.log(mapfile_url);\n",
    "\n",
    "var mapfile_raster_url = (\n",
    "    mapserverURL + '?map=/maps/meteorological/%(map_name)s.map&' + \n",
    "    'SERVICE=WMS&VERSION=1.3.0&REQUEST=GetMap&LAYERS=RIO_DE_JANEIRO&' +\n",
    "    'STYLES=&CRS=CRS:84&BBOX=' + extent_url + '&' +\n",
    "    'WIDTH=800&HEIGHT=400&FORMAT=image/png'\n",
    ");\n",
    "console.log(mapfile_raster_url);\n",
    "\n",
    "var osmUrl='http://{s}.tile.openstreetmap.org/{z}/{x}/{y}.png';\n",
    "var osmAttrib = 'Map data © <a href=\"http://openstreetmap.org\">OpenStreetMap</a> contributors';\n",
    "\n",
    "var raster_url = '';\n",
    "var raster_layer;\n",
    "var geocode = '3304557';\n",
    "\n",
    "var minZoom = 9;\n",
    "var maxZoom = 11;\n",
    "var zoom = 10;\n",
    "\n",
    "//# openstreetmap\n",
    "var osm = L.tileLayer(osmUrl, {\n",
    "    attribution: osmAttrib,\n",
    "    crs: L.CRS.EPSG4326,\n",
    "    minZoom: minZoom,\n",
    "    maxZoom: maxZoom\n",
    "});\n",
    "\n",
    "var baseMap = {\"OSM\": osm};\n",
    "\n",
    "var map = L.map(\n",
    "    'alerta_dengue', {\n",
    "        //crs: L.CRS.EPSG4326,\n",
    "        center: new L.LatLng(-22.9192,-43.4441),\n",
    "        zoom: zoom,\n",
    "        layers: [osm]\n",
    "    }\n",
    "); \n",
    "\n",
    "//# mapserver shapefile\n",
    "var ms_shapefile = L.tileLayer.wms(mapfile_url, {\n",
    "    layers: 'RIO_DE_JANEIRO',\n",
    "    format: 'image/png',\n",
    "    transparent: true,\n",
    "    attribution: \"Info Dengue\",\n",
    "    srs:\"EPSG:4326\",\n",
    "    crs: L.CRS.EPSG4326,\n",
    "    minZoom: minZoom,\n",
    "    maxZoom: maxZoom,\n",
    "});\n",
    "\n",
    "//# mapserver raster\n",
    "var raster_conf = {\n",
    "    layers: 'RIO_DE_JANEIRO',\n",
    "    format: 'image/png',\n",
    "    transparent: true,\n",
    "    attribution: \"Info Dengue\",\n",
    "    srs:\"EPSG:4326\",\n",
    "    crs: L.CRS.EPSG4326,\n",
    "    minZoom: minZoom,\n",
    "    maxZoom: maxZoom,\n",
    "};\n",
    "\n",
    "var ms_rasters = {\n",
    "    'NDVI': null,\n",
    "    'LST_Day_1km': null,\n",
    "    'LST_Night_1km': null,\n",
    "    'relative_humidity_2m_above_ground': null,\n",
    "    'specific_humidity_2m_above_ground': null,\n",
    "    'Precipitation': null\n",
    "}\n",
    "\n",
    "var raster_name;\n",
    "var overlayMaps = {\n",
    "    'Rio de Janeiro': ms_shapefile,\n",
    "};\n",
    "\n",
    "var url = '';\n",
    "for (raster_name in ms_rasters){\n",
    "    url = mapfile_raster_url.replace('%(map_name)s', raster_name.toLowerCase());\n",
    "    console.log(url);\n",
    "    ms_rasters[raster_name] = L.tileLayer.wms(url, raster_conf);\n",
    "    overlayMaps[raster_name] = ms_rasters[raster_name];\n",
    "}\n",
    "\n",
    "ms_shapefile.addTo(map);\n",
    "\n",
    "// L.control.layers(baseMap, overlayMaps).addTo(map);\n",
    "\n",
    "var legend = L.control({position: 'bottomright'});\n",
    "\n",
    "legend.onAdd = function (map) {\n",
    "    var div = L.DomUtil.create('div', 'info legend');\n",
    "\n",
    "    div.innerHTML += (\n",
    "        '<table>' +\n",
    "        '  <tr>' +\n",
    "        '    <td style=\"vertical-align:top;\">máx.</td>' + \n",
    "        '    <td rowspan=\"2\"><img src=\"img/symbols/colorbar.png\" /></td>' +\n",
    "        '  </tr>' + \n",
    "        '  <tr>' + \n",
    "        '    <td style=\"vertical-align:bottom;background-color:#ffffff!important;\">mín.</td>' +\n",
    "        '  </tr>' + \n",
    "        '</table>'\n",
    "    );\n",
    "\n",
    "    return div;\n",
    "};\n",
    "\n",
    "legend.addTo(map);\n",
    "\n",
    "var layer_control = L.control({position: 'topright'});\n",
    "\n",
    "layer_control.onAdd = function (map) {\n",
    "    var div = L.DomUtil.create('div', 'info legend');\n",
    "    var radio_template = (\n",
    "        '<input type=\"radio\" name=\"switch_layer\" ' +\n",
    "        '       onclick=\"switchLayer(\\'layer_name\\')\" /> layer_name <br/>'\n",
    "    );\n",
    "    \n",
    "    var content = '';\n",
    "    content += (\n",
    "        '<div style=\"background-color:#ffffff!important;' +\n",
    "        'padding:10px;border:#CCCCCC solid 1px;' +\n",
    "        'font-size:10px;' +\n",
    "        '\">'\n",
    "    );\n",
    "    for (raster_name in ms_rasters){\n",
    "        content += radio_template.replace(/layer_name/g, raster_name);\n",
    "    }\n",
    "    content += '</div>';\n",
    "    div.innerHTML += content;\n",
    "\n",
    "    return div;\n",
    "};\n",
    "\n",
    "layer_control.addTo(map);\n",
    "\n",
    "function switchLayer(layer_name) {\n",
    "    for (raster_name in ms_rasters){\n",
    "        map.removeLayer(ms_rasters[raster_name]);\n",
    "    }\n",
    "    \n",
    "    ms_rasters[layer_name].addTo(map);\n",
    "}\n",
    "\n",
    "</script>"
   ]
  }
 ],
 "metadata": {
  "kernelspec": {
   "display_name": "Python 3",
   "language": "python",
   "name": "python3"
  },
  "language_info": {
   "codemirror_mode": {
    "name": "ipython",
    "version": 3
   },
   "file_extension": ".py",
   "mimetype": "text/x-python",
   "name": "python",
   "nbconvert_exporter": "python",
   "pygments_lexer": "ipython3",
   "version": "3.6.4"
  },
  "latex_envs": {
   "LaTeX_envs_menu_present": true,
   "autocomplete": true,
   "bibliofile": "biblio.bib",
   "cite_by": "apalike",
   "current_citInitial": 1,
   "eqLabelWithNumbers": true,
   "eqNumInitial": 1,
   "hotkeys": {
    "equation": "Ctrl-E",
    "itemize": "Ctrl-I"
   },
   "labels_anchors": false,
   "latex_user_defs": false,
   "report_style_numbering": false,
   "user_envs_cfg": false
  },
  "toc": {
   "nav_menu": {},
   "number_sections": true,
   "sideBar": true,
   "skip_h1_title": true,
   "toc_cell": false,
   "toc_position": {},
   "toc_section_display": "block",
   "toc_window_display": false
  }
 },
 "nbformat": 4,
 "nbformat_minor": 2
}
