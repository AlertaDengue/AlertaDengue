{
 "cells": [
  {
   "cell_type": "markdown",
   "metadata": {},
   "source": [
    "# Info Dengue - MapServer "
   ]
  },
  {
   "cell_type": "code",
   "execution_count": 1,
   "metadata": {},
   "outputs": [],
   "source": [
    "from IPython.display import Image"
   ]
  },
  {
   "cell_type": "code",
   "execution_count": 2,
   "metadata": {},
   "outputs": [
    {
     "data": {
      "text/html": [
       "<style>\n",
       ".box-note {\n",
       "    padding: 10px;\n",
       "    margin: 20px;\n",
       "    background: #efefef;\n",
       "    font-size: 12px;\n",
       "    color: #333333;\n",
       "}\n",
       "</style>"
      ],
      "text/plain": [
       "<IPython.core.display.HTML object>"
      ]
     },
     "metadata": {},
     "output_type": "display_data"
    }
   ],
   "source": [
    "%%html\n",
    "<style>\n",
    ".box-note {\n",
    "    padding: 10px;\n",
    "    margin: 20px;\n",
    "    background: #efefef;\n",
    "    font-size: 12px;\n",
    "    color: #333333;\n",
    "}\n",
    "</style>"
   ]
  },
  {
   "cell_type": "markdown",
   "metadata": {},
   "source": [
    "## Introdução"
   ]
  },
  {
   "cell_type": "markdown",
   "metadata": {},
   "source": [
    "Nesse documento, apresenta-se informações sobre o uso do serviço de servidor de mapas do **Info Dengue**.\n",
    "\n",
    "O servidor está feito usando a plataforma **MapServer**.\n",
    "\n",
    "O serviço está habilitado para as cidades que estão vinculadas ao **Info Dengue**.\n",
    "\n",
    "Atualmente, o servidor de mapas apresenta dois tipos de informações: \n",
    "\n",
    "* Alerta de incidência de dengue, chikungunya e zika;\n",
    "* Informações meteorológicas.\n",
    "\n",
    "O endereço de acesso do servidor de mapas do **Info Dengue** é: `http://maps.dengue.mat.br`\n",
    "\n",
    "Exclusivamente nesse documento, será usado o endereço local `172.17.0.2`."
   ]
  },
  {
   "cell_type": "code",
   "execution_count": 3,
   "metadata": {},
   "outputs": [],
   "source": [
    "mapserver_url = '172.17.0.2'"
   ]
  },
  {
   "cell_type": "markdown",
   "metadata": {},
   "source": [
    "A endereço completo de acesso ao servidor de mapas necessita os seguintes parâmetros:\n",
    "\n",
    "* map: identificação do mapa a ser usado, podendo ser:\n",
    "    * /maps/alert/dengue.map\n",
    "    * /maps/alert/chikungunya.map\n",
    "    * /maps/alert/zika.map\n",
    "    * /maps/meteorological/ndvi.map\n",
    "    * /maps/meteorological/lst_day_1km.map\n",
    "    * /maps/meteorological/lst_night_1km.map\n",
    "    * /maps/meteorological/relative_humidity_2m_above_ground.map\n",
    "    * /maps/meteorological/specific_humidity_2m_above_ground.map\n",
    "    * /maps/meteorological/precipitation.map\n",
    "* SERVICE: tipo de serviço (WMS);\n",
    "* VERSION: versão do serviço (1.3.0);\n",
    "* REQUEST: tipo de requisição (GetMap);\n",
    "* LAYERS: código IBGE da cidade;\n",
    "* CRS: projeção do mapa (CRS:84);\n",
    "* BBOX: extensão do mapa*;\n",
    "* WIDTH: largura da image*;\n",
    "* HEIGHT: altura da imagem*;\n",
    "* FORMAT: formato da imagem do mapa, podende ser:\n",
    "    * png;\n",
    "    * kml;\n",
    "    * gtiff;\n",
    "    \n",
    "    \n",
    "<div class='box-note'>\n",
    "    <strong>NOTA</strong>: O Info Dengue fornecerá os parâmetros BBOX, WIDTH e HEIGHT para cada \n",
    "cidade vinculada pois, os valores informados necesses parâmetros podem \n",
    "distorcionar a imagem solicitada.\n",
    "</div>\n",
    "\n",
    "A continuação, é apresentado um exemplo de acesso ao servidor de mapa para requisição de dados NDVI para a cidade o Rio de Janeiro: "
   ]
  },
  {
   "cell_type": "code",
   "execution_count": 4,
   "metadata": {},
   "outputs": [],
   "source": [
    "url = (\n",
    "    'http://172.17.0.2/?map=/maps/meteorological/ndvi.map&' + \n",
    "    'SERVICE=WMS&' +\n",
    "    'VERSION=1.3.0&'+ \n",
    "    'REQUEST=GetMap&' +\n",
    "    'LAYERS=RIO_DE_JANEIRO&' +\n",
    "    'CRS=CRS:84&' +\n",
    "    'BBOX=-43.79653853090349,-23.0828926973403,-43.09903940038369,-22.746020285810395&' +\n",
    "    'WIDTH=800&' +\n",
    "    'HEIGHT=400&' +\n",
    "    'FORMAT=image/png'\n",
    ")"
   ]
  },
  {
   "cell_type": "code",
   "execution_count": 5,
   "metadata": {},
   "outputs": [
    {
     "name": "stdout",
     "output_type": "stream",
     "text": [
      "http://172.17.0.2/?map=/maps/meteorological/ndvi.map&SERVICE=WMS&VERSION=1.3.0&REQUEST=GetMap&LAYERS=RIO_DE_JANEIRO&CRS=CRS:84&BBOX=-43.79653853090349,-23.0828926973403,-43.09903940038369,-22.746020285810395&WIDTH=800&HEIGHT=400&FORMAT=image/png\n"
     ]
    },
    {
     "data": {
      "text/html": [
       "<img src=\"http://172.17.0.2/?map=/maps/meteorological/ndvi.map&SERVICE=WMS&VERSION=1.3.0&REQUEST=GetMap&LAYERS=RIO_DE_JANEIRO&CRS=CRS:84&BBOX=-43.79653853090349,-23.0828926973403,-43.09903940038369,-22.746020285810395&WIDTH=800&HEIGHT=400&FORMAT=image/png\"/>"
      ],
      "text/plain": [
       "<IPython.core.display.Image object>"
      ]
     },
     "execution_count": 5,
     "metadata": {},
     "output_type": "execute_result"
    }
   ],
   "source": [
    "print(url)\n",
    "Image(url=url)"
   ]
  },
  {
   "cell_type": "markdown",
   "metadata": {},
   "source": [
    "Como comentado anteriormente, é possível solicitar ao servidor de mapas **Info Dengue** dados de alerta de incidência de Dengue, Chikungunya e Zika.\n",
    "\n",
    "As cores apresentadas podem ser:\n",
    "\n",
    "* verde: baixo risco;\n",
    "* amarelo: atenção;\n",
    "* laranja: transmissão;\n",
    "* vermelho: epidemia;\n",
    "\n",
    "A seguir, é apresentado um exemplo de solitição de imagem do alerta de incidência de Dengue para a cidade do Rio de Janeiro."
   ]
  },
  {
   "cell_type": "code",
   "execution_count": 6,
   "metadata": {},
   "outputs": [],
   "source": [
    "url = (\n",
    "    'http://172.17.0.2/?map=/maps/alert/dengue.map&' + \n",
    "    'SERVICE=WMS&' +\n",
    "    'VERSION=1.3.0&'+ \n",
    "    'REQUEST=GetMap&' +\n",
    "    'LAYERS=RIO_DE_JANEIRO&' +\n",
    "    'CRS=CRS:84&' +\n",
    "    'BBOX=-43.79653853090349,-23.0828926973403,-43.09903940038369,-22.746020285810395&' +\n",
    "    'WIDTH=800&' +\n",
    "    'HEIGHT=400&' +\n",
    "    'FORMAT=image/png'\n",
    ")"
   ]
  },
  {
   "cell_type": "code",
   "execution_count": 7,
   "metadata": {},
   "outputs": [
    {
     "name": "stdout",
     "output_type": "stream",
     "text": [
      "http://172.17.0.2/?map=/maps/alert/dengue.map&SERVICE=WMS&VERSION=1.3.0&REQUEST=GetMap&LAYERS=RIO_DE_JANEIRO&CRS=CRS:84&BBOX=-43.79653853090349,-23.0828926973403,-43.09903940038369,-22.746020285810395&WIDTH=800&HEIGHT=400&FORMAT=image/png\n"
     ]
    },
    {
     "data": {
      "text/html": [
       "<img src=\"http://172.17.0.2/?map=/maps/alert/dengue.map&SERVICE=WMS&VERSION=1.3.0&REQUEST=GetMap&LAYERS=RIO_DE_JANEIRO&CRS=CRS:84&BBOX=-43.79653853090349,-23.0828926973403,-43.09903940038369,-22.746020285810395&WIDTH=800&HEIGHT=400&FORMAT=image/png\"/>"
      ],
      "text/plain": [
       "<IPython.core.display.Image object>"
      ]
     },
     "execution_count": 7,
     "metadata": {},
     "output_type": "execute_result"
    }
   ],
   "source": [
    "print(url)\n",
    "Image(url=url)"
   ]
  }
 ],
 "metadata": {
  "kernelspec": {
   "display_name": "Python 3",
   "language": "python",
   "name": "python3"
  },
  "language_info": {
   "codemirror_mode": {
    "name": "ipython",
    "version": 3
   },
   "file_extension": ".py",
   "mimetype": "text/x-python",
   "name": "python",
   "nbconvert_exporter": "python",
   "pygments_lexer": "ipython3",
   "version": "3.6.4"
  },
  "toc": {
   "nav_menu": {},
   "number_sections": true,
   "sideBar": true,
   "skip_h1_title": true,
   "toc_cell": false,
   "toc_position": {},
   "toc_section_display": "block",
   "toc_window_display": false
  }
 },
 "nbformat": 4,
 "nbformat_minor": 2
}
