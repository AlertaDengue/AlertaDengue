{
 "cells": [
  {
   "cell_type": "code",
   "execution_count": 1,
   "metadata": {},
   "outputs": [],
   "source": [
    "from sqlalchemy import create_engine\n",
    "from AlertaDengue import settings\n",
    "\n",
    "import pandas as pd"
   ]
  },
  {
   "cell_type": "code",
   "execution_count": 2,
   "metadata": {},
   "outputs": [],
   "source": [
    "db_conf = {\n",
    "    'u': settings.PSQL_USER,\n",
    "    'h': settings.PSQL_HOST,\n",
    "    'p': settings.PSQL_PASSWORD,\n",
    "    'n': settings.PSQL_DB,\n",
    "}"
   ]
  },
  {
   "cell_type": "code",
   "execution_count": 3,
   "metadata": {},
   "outputs": [],
   "source": [
    "dsn = 'postgresql://%(u)s:%(p)s@%(h)s/%(n)s' % db_conf\n",
    "engine = create_engine(dsn)"
   ]
  },
  {
   "cell_type": "code",
   "execution_count": 4,
   "metadata": {},
   "outputs": [
    {
     "name": "stdout",
     "output_type": "stream",
     "text": [
      "\n",
      "    UPDATE \"Dengue_global\".regional_saude \n",
      "    SET varcli='temp_min', tcrit=22.0, ucrit=NULL\n",
      "    WHERE municipio_geocodigo=3300233;\n",
      "    \n",
      "    UPDATE \"Dengue_global\".regional_saude \n",
      "    SET varcli='temp_min', tcrit=22.0, ucrit=NULL\n",
      "    WHERE municipio_geocodigo=3300159;\n",
      "    \n",
      "    UPDATE \"Dengue_global\".regional_saude \n",
      "    SET varcli='temp_min', tcrit=22.0, ucrit=NULL\n",
      "    WHERE municipio_geocodigo=3300258;\n",
      "    \n",
      "    UPDATE \"Dengue_global\".regional_saude \n",
      "    SET varcli='temp_min', tcrit=22.0, ucrit=NULL\n",
      "    WHERE municipio_geocodigo=3300407;\n",
      "    \n",
      "    UPDATE \"Dengue_global\".regional_saude \n",
      "    SET varcli='temp_min', tcrit=22.0, ucrit=NULL\n",
      "    WHERE municipio_geocodigo=3300456;\n",
      "    \n",
      "    UPDATE \"Dengue_global\".regional_saude \n",
      "    SET varcli='temp_min', tcrit=22.0, ucrit=NULL\n",
      "    WHERE municipio_geocodigo=3300506;\n",
      "    \n",
      "    UPDATE \"Dengue_global\".regional_saude \n",
      "    SET varcli='temp_min', tcrit=22.0, ucrit=NULL\n",
      "    WHERE municipio_geocodigo=3300704;\n",
      "    \n",
      "    UPDATE \"Dengue_global\".regional_saud ...\n"
     ]
    }
   ],
   "source": [
    "SQL = ''\n",
    "sql = ''\n",
    "df = pd.read_csv('../../alerta_dengue_files/regional-saude.csv', na_values='NA')\n",
    "for i, row in df.iterrows():\n",
    "    sql += '''\n",
    "    UPDATE \"Dengue_global\".regional_saude \n",
    "    SET varcli='%s', tcrit=%s, ucrit=%s\n",
    "    WHERE municipio_geocodigo=%s;\n",
    "    ''' % (row['varcli'], row['tcrit'], row['ucrit'], row['municipio_geocodigo'])\n",
    "    \n",
    "update_sql = sql.replace('nan', 'NULL')\n",
    "print(update_sql[:1000], '...')"
   ]
  },
  {
   "cell_type": "code",
   "execution_count": 5,
   "metadata": {},
   "outputs": [
    {
     "name": "stdout",
     "output_type": "stream",
     "text": [
      "delete done.\n",
      "unique added done.\n",
      "varcli added.\n",
      "tcrit added.\n",
      "ucrit added.\n",
      "update done\n"
     ]
    }
   ],
   "source": [
    "with engine.connect() as conn:\n",
    "    # remove duplicated register\n",
    "    sql = 'DELETE FROM \"Dengue_global\".regional_saude WHERE id=1746;'\n",
    "    conn.execute(sql)\n",
    "    print('delete done.')\n",
    "    \n",
    "    SQL += sql\n",
    "    \n",
    "    # alter table\n",
    "    try:\n",
    "        sql = '''\n",
    "        ALTER TABLE \"Dengue_global\".regional_saude \n",
    "        ADD CONSTRAINT regional_saude_uq_municipio_geocodigo UNIQUE (municipio_geocodigo)\n",
    "        '''\n",
    "        \n",
    "        SQL += sql\n",
    "        \n",
    "        conn.execute(sql)\n",
    "        print('unique added done.')\n",
    "    except Exception as e:\n",
    "        print(e)\n",
    "        \n",
    "    try:\n",
    "        sql = '''\n",
    "        ALTER TABLE \"Dengue_global\".regional_saude \n",
    "        ADD COLUMN varcli VARCHAR(10) NULL;\n",
    "        '''\n",
    "        \n",
    "        SQL += sql\n",
    "        \n",
    "        conn.execute(sql)\n",
    "        print('varcli added.')\n",
    "    except Exception as e:\n",
    "        print(e)\n",
    "        \n",
    "    try:\n",
    "        sql = '''\n",
    "        ALTER TABLE \"Dengue_global\".regional_saude \n",
    "        ADD COLUMN tcrit DOUBLE PRECISION NULL;\n",
    "        '''\n",
    "        \n",
    "        SQL += sql\n",
    "        \n",
    "        conn.execute(sql)\n",
    "        print('tcrit added.')\n",
    "    except Exception as e:\n",
    "        print(e)\n",
    "        \n",
    "    try:\n",
    "        sql = '''\n",
    "        ALTER TABLE \"Dengue_global\".regional_saude \n",
    "        ADD COLUMN ucrit DOUBLE PRECISION NULL;\n",
    "        '''\n",
    "        \n",
    "        SQL += sql\n",
    "        \n",
    "        conn.execute(sql)\n",
    "        print('ucrit added.')\n",
    "    except Exception as e:\n",
    "        print(e)\n",
    "        \n",
    "    try:\n",
    "        SQL += update_sql\n",
    "        \n",
    "        conn.execute(update_sql)\n",
    "        print('update done')\n",
    "    except Exception as e:\n",
    "        print(e)"
   ]
  },
  {
   "cell_type": "code",
   "execution_count": 6,
   "metadata": {},
   "outputs": [],
   "source": [
    "with open('/tmp/dump.sql', 'w') as f:\n",
    "    f.write(SQL)"
   ]
  }
 ],
 "metadata": {
  "kernelspec": {
   "display_name": "Python 3",
   "language": "python",
   "name": "python3"
  },
  "language_info": {
   "codemirror_mode": {
    "name": "ipython",
    "version": 3
   },
   "file_extension": ".py",
   "mimetype": "text/x-python",
   "name": "python",
   "nbconvert_exporter": "python",
   "pygments_lexer": "ipython3",
   "version": "3.6.4"
  }
 },
 "nbformat": 4,
 "nbformat_minor": 2
}
