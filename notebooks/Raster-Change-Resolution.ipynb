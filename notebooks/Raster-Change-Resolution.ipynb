{
 "cells": [
  {
   "cell_type": "markdown",
   "metadata": {},
   "source": [
    "# Change Raster Resolution"
   ]
  },
  {
   "cell_type": "code",
   "execution_count": 1,
   "metadata": {},
   "outputs": [],
   "source": [
    "from copy import copy\n",
    "from scipy.ndimage.interpolation import zoom\n",
    "from IPython.display import display, HTML\n",
    "from matplotlib import pyplot as plt\n",
    "from osgeo import gdal, osr\n",
    "from rasterio import Affine\n",
    "from rasterio.rio import convert\n",
    "from rasterio.warp import reproject, RESAMPLING\n",
    "# local\n",
    "from AlertaDengue.settings import (\n",
    "    MAPSERVER_URL, RASTER_PATH, \n",
    ")\n",
    "\n",
    "import fiona\n",
    "import numpy as np\n",
    "import os\n",
    "import rasterio\n",
    "import rasterio.plot\n",
    "import rasterio.mask\n",
    "# local\n",
    "import AlertaDengue as alert_dengue"
   ]
  },
  {
   "cell_type": "code",
   "execution_count": 2,
   "metadata": {},
   "outputs": [],
   "source": [
    "def mask_raster(src, features):\n",
    "    # make raster mask\n",
    "    out_image, out_transform = rasterio.mask.mask(\n",
    "        src, features, crop=True, nodata=np.nan, all_touched=True\n",
    "    )\n",
    "    out_meta = src.meta.copy()\n",
    "    \n",
    "    img_type = out_image.dtype\n",
    "    # cheating\n",
    "    if img_type == np.float64:\n",
    "        img_type = np.float64\n",
    "    elif img_type == np.float32:\n",
    "        img_type = np.float32\n",
    "    \n",
    "    out_meta.update({\n",
    "        'driver': \"GTiff\",\n",
    "        'height': out_image.shape[1],\n",
    "        'width': out_image.shape[2],\n",
    "        'transform': out_transform,\n",
    "        'dtype': img_type # out_images[raster_name].dtype\n",
    "    })\n",
    "    \n",
    "    return out_image, out_meta"
   ]
  },
  {
   "cell_type": "code",
   "execution_count": 3,
   "metadata": {},
   "outputs": [],
   "source": [
    "def show_raster_stats(src):\n",
    "    \"\"\"\n",
    "    \"\"\"\n",
    "    print('=' * 80)\n",
    "    print('shape:', src.read().shape)\n",
    "    print('dtypes:', src.dtypes)\n",
    "    print('nodata:', src.nodata)\n",
    "    for band in src.read():\n",
    "        if np.isnan(band.min()):\n",
    "            band = np.nan_to_num(band)\n",
    "            \n",
    "        print('min:', band.min())\n",
    "        print('mean:', band.mean())\n",
    "        print('median:', np.median(band))\n",
    "        print('max:', band.max())\n",
    "        "
   ]
  },
  {
   "cell_type": "code",
   "execution_count": 4,
   "metadata": {},
   "outputs": [],
   "source": [
    "def show_raster_panel_info(src, vmin, vmax):\n",
    "    \"\"\"\n",
    "    \n",
    "    \"\"\"\n",
    "    show_raster_stats(src)\n",
    "    print('vmin:', vmin)\n",
    "    print('vmax:', vmax)\n",
    "\n",
    "    rasterio.plot.show(\n",
    "        (src, 1), with_bounds=True, cmap='gnuplot',\n",
    "        vmin=vmin, vmax=vmax\n",
    "    )"
   ]
  },
  {
   "cell_type": "code",
   "execution_count": 5,
   "metadata": {},
   "outputs": [],
   "source": [
    "def get_raster_key(raster_name, to_lower=True):\n",
    "    \"\"\"\n",
    "    \"\"\"\n",
    "    if raster_name[-14:].count('_') == 2:\n",
    "        raster_key = raster_name[:-15]\n",
    "    else:\n",
    "        raster_key = raster_name[:-19]\n",
    "    \n",
    "    if to_lower:\n",
    "        raster_key = raster_key.lower()\n",
    "        \n",
    "    return raster_key"
   ]
  },
  {
   "cell_type": "code",
   "execution_count": 6,
   "metadata": {},
   "outputs": [],
   "source": [
    "def get_date_from_file_name(raster_name, to_lower=True):\n",
    "    \"\"\"\n",
    "    \"\"\"\n",
    "    if raster_name[-14:].count('_') == 2:\n",
    "        dt = raster_name[-14:-4]\n",
    "    else:\n",
    "        dt = raster_name[-18:-8]\n",
    "\n",
    "    return datetime.strptime(dt, '%Y_%m_%d')\n"
   ]
  },
  {
   "cell_type": "markdown",
   "metadata": {},
   "source": [
    "## Setup"
   ]
  },
  {
   "cell_type": "code",
   "execution_count": 7,
   "metadata": {},
   "outputs": [],
   "source": [
    "raster_dir_path = RASTER_PATH\n",
    "meteorological_dir_path = os.path.join(raster_dir_path, 'meteorological')\n",
    "\n",
    "data_range = {\n",
    "    'ndvi': (-2000.0, +10000.0),\n",
    "}\n",
    "\n",
    "geocode = 3304557\n",
    "\n",
    "shp_path = '%s/static/shapefile' % os.path.dirname(alert_dengue.__path__[0])\n",
    "shapefile_path = os.path.join(shp_path, '%s.shp' % geocode)"
   ]
  },
  {
   "cell_type": "code",
   "execution_count": 8,
   "metadata": {},
   "outputs": [],
   "source": [
    "# using fiona to get coordintes\n",
    "with fiona.open(shapefile_path, \"r\") as shapefile:\n",
    "    features = [feature[\"geometry\"] for feature in shapefile]"
   ]
  },
  {
   "cell_type": "code",
   "execution_count": 9,
   "metadata": {},
   "outputs": [],
   "source": [
    "raster_name = 'NDVI_2010_09_30.tif'\n",
    "raster_key = get_raster_key(raster_name)\n",
    "\n",
    "vmin, vmax = data_range[raster_key]"
   ]
  },
  {
   "cell_type": "markdown",
   "metadata": {},
   "source": [
    "## Mask raster using shapefile"
   ]
  },
  {
   "cell_type": "code",
   "execution_count": 10,
   "metadata": {},
   "outputs": [
    {
     "name": "stdout",
     "output_type": "stream",
     "text": [
      "ORIGINAL RASTER MASKED\n",
      "================================================================================\n",
      "shape: (1, 8, 17)\n",
      "dtypes: ('float64',)\n",
      "nodata: None\n",
      "min: -414.0\n",
      "mean: 2422.6617647058824\n",
      "median: 2393.0\n",
      "max: 7673.0\n",
      "vmin: -2000.0\n",
      "vmax: 10000.0\n"
     ]
    },
    {
     "name": "stderr",
     "output_type": "stream",
     "text": [
      "/home/xmn/miniconda3/envs/alertadengue/lib/python3.6/site-packages/numpy/core/_methods.py:29: RuntimeWarning: invalid value encountered in reduce\n",
      "  return umr_minimum(a, axis, None, out, keepdims)\n"
     ]
    },
    {
     "data": {
      "image/png": "[encoded data removed]",
      "text/plain": [
       "<matplotlib.figure.Figure at 0x7fa74fd4f2b0>"
      ]
     },
     "metadata": {},
     "output_type": "display_data"
    }
   ],
   "source": [
    "ndvi_country_path = os.path.join(\n",
    "    meteorological_dir_path, 'country', 'ndvi', raster_name\n",
    ")\n",
    "\n",
    "ndvi_rj_name = '%s_%s' % (geocode, raster_name)\n",
    "ndvi_rj_path = os.path.join(os.sep, 'tmp', ndvi_rj_name)\n",
    "\n",
    "with rasterio.open(ndvi_country_path) as ndvi_country_src:\n",
    "    ndvi_rj_image, ndvi_rj_meta = mask_raster(\n",
    "        ndvi_country_src, features\n",
    "    )\n",
    "\n",
    "    with rasterio.open(ndvi_rj_path, \"w\", **ndvi_rj_meta) as ndvi_rj_src:\n",
    "        print('ORIGINAL RASTER MASKED')\n",
    "        ndvi_rj_src.write(ndvi_rj_image)\n",
    "        show_raster_panel_info(ndvi_rj_src, vmin, vmax)\n",
    "# Rio de Janeiro raster file        \n",
    "src_rj = rasterio.open(ndvi_rj_path)\n",
    "ndvi_rj_meta = src_rj.profile\n",
    "ndvi_rj_image = src_rj.read()\n",
    "\n",
    "ndvi_rj_aff = (\n",
    "    src_rj.profile['transform'] \n",
    "    if not isinstance(src_rj.profile['transform'], tuple) else\n",
    "    src_rj.profile['affine']\n",
    ")"
   ]
  },
  {
   "cell_type": "markdown",
   "metadata": {},
   "source": [
    "## Change Resolution"
   ]
  },
  {
   "cell_type": "code",
   "execution_count": 11,
   "metadata": {},
   "outputs": [],
   "source": [
    "res = 4"
   ]
  },
  {
   "cell_type": "markdown",
   "metadata": {},
   "source": [
    "### Using Rasterio reproject"
   ]
  },
  {
   "cell_type": "code",
   "execution_count": 12,
   "metadata": {},
   "outputs": [
    {
     "name": "stdout",
     "output_type": "stream",
     "text": [
      "================================================================================\n",
      "shape: (1, 32, 68)\n",
      "dtypes: ('float64',)\n",
      "nodata: None\n",
      "min: 0.0\n",
      "mean: 922.7480887244806\n",
      "median: 0.0\n",
      "max: 7621.462886810471\n",
      "vmin: -2000.0\n",
      "vmax: 10000.0\n"
     ]
    },
    {
     "name": "stderr",
     "output_type": "stream",
     "text": [
      "/home/xmn/miniconda3/envs/alertadengue/lib/python3.6/site-packages/numpy/core/_methods.py:29: RuntimeWarning: invalid value encountered in reduce\n",
      "  return umr_minimum(a, axis, None, out, keepdims)\n"
     ]
    },
    {
     "data": {
      "image/png": "[encoded data removed]",
      "text/plain": [
       "<matplotlib.figure.Figure at 0x7fa74db1db38>"
      ]
     },
     "metadata": {},
     "output_type": "display_data"
    },
    {
     "name": "stdout",
     "output_type": "stream",
     "text": [
      "\n",
      "ORIGINAL RESOLUTION\n",
      "================================================================================\n",
      "shape: (1, 8, 17)\n",
      "dtypes: ('float64',)\n",
      "nodata: None\n",
      "min: -414.0\n",
      "mean: 2422.6617647058824\n",
      "median: 2393.0\n",
      "max: 7673.0\n",
      "vmin: -2000.0\n",
      "vmax: 10000.0\n"
     ]
    },
    {
     "data": {
      "image/png": "[encoded data removed]",
      "text/plain": [
       "<matplotlib.figure.Figure at 0x7fa74daf20b8>"
      ]
     },
     "metadata": {},
     "output_type": "display_data"
    }
   ],
   "source": [
    "ndvi_rj_res1_name = '%s_res1_%s' % (geocode, raster_name)\n",
    "\n",
    "ndvi_rj_res1_path = os.path.join(\n",
    "    os.sep, 'tmp', ndvi_rj_res1_name\n",
    ")\n",
    "\n",
    "ndvi_rj_res1_image = ndvi_rj_image.copy()\n",
    "ndvi_rj_res1_meta = dict(ndvi_rj_meta)\n",
    "ndvi_rj_res1_aff = copy(ndvi_rj_aff)\n",
    "\n",
    "ndvi_rj_res1_image = np.empty(\n",
    "    shape=(\n",
    "        ndvi_rj_res1_image.shape[0],  # same number of bands\n",
    "        round(ndvi_rj_res1_image.shape[1] * res), # resolution * 100%\n",
    "        round(ndvi_rj_res1_image.shape[2] * res)\n",
    "    ), dtype=ndvi_rj_res1_image.dtype\n",
    ")\n",
    "\n",
    "# adjust the new affine transform to the 150% smaller cell size\n",
    "# identity(), translation(), scale(), shear(), and rotation()\n",
    "ndvi_rj_res1_aff_new = Affine(\n",
    "    ndvi_rj_aff.a / res, \n",
    "    ndvi_rj_aff.b, \n",
    "    ndvi_rj_aff.c,\n",
    "    ndvi_rj_aff.d, \n",
    "    ndvi_rj_aff.e / res, \n",
    "    ndvi_rj_aff.f\n",
    ")\n",
    "\n",
    "ndvi_rj_res1_aff, ndvi_rj_res1_aff_new\n",
    "\n",
    "reproject(\n",
    "    source=ndvi_rj_image, \n",
    "    src_transform = ndvi_rj_aff,\n",
    "    src_crs = ndvi_rj_meta['crs'],\n",
    "    destination=ndvi_rj_res1_image,\n",
    "    dst_transform = ndvi_rj_res1_aff_new,\n",
    "    dst_crs = ndvi_rj_res1_meta['crs'],\n",
    "    resampling = RESAMPLING.cubic\n",
    ")\n",
    "\n",
    "ndvi_rj_res1_meta['transform'] = ndvi_rj_res1_aff_new\n",
    "ndvi_rj_res1_meta['affine'] = ndvi_rj_res1_aff_new\n",
    "ndvi_rj_res1_meta['width'] *= res\n",
    "ndvi_rj_res1_meta['height'] *= res\n",
    "\n",
    "with rasterio.open(ndvi_rj_res1_path, \"w\", **ndvi_rj_res1_meta) as dst:\n",
    "    dst.write(ndvi_rj_res1_image)\n",
    "    show_raster_panel_info(dst, vmin, vmax)\n",
    "    \n",
    "    print('\\nORIGINAL RESOLUTION')\n",
    "    show_raster_panel_info(src_rj, vmin, vmax)"
   ]
  },
  {
   "cell_type": "markdown",
   "metadata": {},
   "source": [
    "### Using SciPy"
   ]
  },
  {
   "cell_type": "code",
   "execution_count": 13,
   "metadata": {},
   "outputs": [
    {
     "name": "stdout",
     "output_type": "stream",
     "text": [
      "\n",
      "NEW RESOLUTION\n",
      "================================================================================\n",
      "shape: (1, 32, 68)\n",
      "dtypes: ('float64',)\n",
      "nodata: None\n",
      "min: 0.0\n",
      "mean: 1466.2507536017006\n",
      "median: 0.0\n",
      "max: 7158.230286695288\n",
      "vmin: -2000.0\n",
      "vmax: 10000.0\n"
     ]
    },
    {
     "name": "stderr",
     "output_type": "stream",
     "text": [
      "/home/xmn/miniconda3/envs/alertadengue/lib/python3.6/site-packages/numpy/core/_methods.py:29: RuntimeWarning: invalid value encountered in reduce\n",
      "  return umr_minimum(a, axis, None, out, keepdims)\n"
     ]
    },
    {
     "data": {
      "image/png": "[encoded data removed]",
      "text/plain": [
       "<matplotlib.figure.Figure at 0x7fa74fd49e10>"
      ]
     },
     "metadata": {},
     "output_type": "display_data"
    },
    {
     "name": "stdout",
     "output_type": "stream",
     "text": [
      "\n",
      "ORIGINAL RESOLUTION\n",
      "================================================================================\n",
      "shape: (1, 8, 17)\n",
      "dtypes: ('float64',)\n",
      "nodata: None\n",
      "min: -414.0\n",
      "mean: 2422.6617647058824\n",
      "median: 2393.0\n",
      "max: 7673.0\n",
      "vmin: -2000.0\n",
      "vmax: 10000.0\n"
     ]
    },
    {
     "data": {
      "image/png": "[encoded data removed]",
      "text/plain": [
       "<matplotlib.figure.Figure at 0x7fa74daffb00>"
      ]
     },
     "metadata": {},
     "output_type": "display_data"
    }
   ],
   "source": [
    "ndvi_rj_res2_name = '%s_res2_%s' % (geocode, raster_name)\n",
    "\n",
    "ndvi_rj_res2_path = os.path.join(\n",
    "    os.sep, 'tmp', ndvi_rj_res2_name\n",
    ")\n",
    "\n",
    "ndvi_rj_res2_image = zoom(\n",
    "    ndvi_rj_image, zoom=[1, res, res], order=2, prefilter=False\n",
    ")\n",
    "\n",
    "# Adjust original affine transform\n",
    "ndvi_rj_res2_meta = dict(ndvi_rj_meta)\n",
    "ndvi_rj_res2_aff = copy(ndvi_rj_aff)\n",
    "ndvi_rj_res2_meta['transform'] = Affine(\n",
    "    ndvi_rj_aff.a / res, \n",
    "    ndvi_rj_aff.b, \n",
    "    ndvi_rj_aff.c,\n",
    "    ndvi_rj_aff.d, \n",
    "    ndvi_rj_aff.e / res, \n",
    "    ndvi_rj_aff.f\n",
    ")\n",
    "ndvi_rj_res2_meta['transform'] = ndvi_rj_res2_meta['affine']\n",
    "\n",
    "ndvi_rj_res2_meta['width'] *= res\n",
    "ndvi_rj_res2_meta['height'] *= res\n",
    "\n",
    "with rasterio.open(ndvi_rj_res2_path, \"w\", **ndvi_rj_res2_meta) as dst:\n",
    "    dst.write(ndvi_rj_res2_image)\n",
    "    print('\\nNEW RESOLUTION')\n",
    "    show_raster_panel_info(dst, vmin, vmax)\n",
    "    \n",
    "    print('\\nORIGINAL RESOLUTION')\n",
    "    show_raster_panel_info(src_rj, vmin, vmax)"
   ]
  },
  {
   "cell_type": "markdown",
   "metadata": {},
   "source": [
    "### Using decimated read"
   ]
  },
  {
   "cell_type": "code",
   "execution_count": 14,
   "metadata": {},
   "outputs": [
    {
     "name": "stdout",
     "output_type": "stream",
     "text": [
      "\n",
      "NEW RESOLUTION\n",
      "================================================================================\n",
      "shape: (1, 32, 68)\n",
      "dtypes: ('float64',)\n",
      "nodata: None\n",
      "min: -414.0\n",
      "mean: 2422.6617647058824\n",
      "median: 2393.0\n",
      "max: 7673.0\n",
      "vmin: -2000.0\n",
      "vmax: 10000.0\n"
     ]
    },
    {
     "name": "stderr",
     "output_type": "stream",
     "text": [
      "/home/xmn/miniconda3/envs/alertadengue/lib/python3.6/site-packages/numpy/core/_methods.py:29: RuntimeWarning: invalid value encountered in reduce\n",
      "  return umr_minimum(a, axis, None, out, keepdims)\n"
     ]
    },
    {
     "data": {
      "image/png": "[encoded data removed]",
      "text/plain": [
       "<matplotlib.figure.Figure at 0x7fa74fd4f2e8>"
      ]
     },
     "metadata": {},
     "output_type": "display_data"
    },
    {
     "name": "stdout",
     "output_type": "stream",
     "text": [
      "\n",
      "ORIGINAL RESOLUTION\n",
      "================================================================================\n",
      "shape: (1, 8, 17)\n",
      "dtypes: ('float64',)\n",
      "nodata: None\n",
      "min: -414.0\n",
      "mean: 2422.6617647058824\n",
      "median: 2393.0\n",
      "max: 7673.0\n",
      "vmin: -2000.0\n",
      "vmax: 10000.0\n"
     ]
    },
    {
     "data": {
      "image/png": "[encoded data removed]",
      "text/plain": [
       "<matplotlib.figure.Figure at 0x7fa74db2e7b8>"
      ]
     },
     "metadata": {},
     "output_type": "display_data"
    }
   ],
   "source": [
    "ndvi_rj_res3_name = '%s_res3_%s' % (geocode, raster_name)\n",
    "ndvi_rj_res3_path = os.path.join(\n",
    "    os.sep, 'tmp', ndvi_rj_res3_name\n",
    ")\n",
    "\n",
    "with rasterio.open(ndvi_rj_path) as src:\n",
    "    ndvi_rj_res3_image = src.read()\n",
    "\n",
    "    newarr = np.empty(\n",
    "        shape=(\n",
    "            ndvi_rj_res3_image.shape[0],  # same number of bands\n",
    "            round(ndvi_rj_res3_image.shape[1] * res), # double resolution\n",
    "            round(ndvi_rj_res3_image.shape[2] * res))\n",
    "    )\n",
    "\n",
    "    ndvi_rj_res3_image = src.read(out=newarr).copy()\n",
    "    ndvi_rj_res3_meta = dict(src.profile)\n",
    "\n",
    "ndvi_rj_res3_aff = copy(ndvi_rj_res3_meta['affine'])\n",
    "ndvi_rj_res3_meta['transform'] = Affine(\n",
    "    ndvi_rj_res3_aff.a / res, \n",
    "    ndvi_rj_res3_aff.b, \n",
    "    ndvi_rj_res3_aff.c,\n",
    "    ndvi_rj_res3_aff.d, \n",
    "    ndvi_rj_res3_aff.e / res, \n",
    "    ndvi_rj_res3_aff.f\n",
    ")\n",
    "ndvi_rj_res3_meta['affine'] = ndvi_rj_res3_meta['transform']\n",
    "ndvi_rj_res3_meta['width'] *= res\n",
    "ndvi_rj_res3_meta['height'] *= res\n",
    "\n",
    "with rasterio.open(ndvi_rj_res3_path, \"w\", **ndvi_rj_res3_meta) as dst:\n",
    "    dst.write(ndvi_rj_res3_image)\n",
    "    print('\\nNEW RESOLUTION')\n",
    "    show_raster_panel_info(dst, vmin, vmax)\n",
    "    \n",
    "    print('\\nORIGINAL RESOLUTION')\n",
    "    show_raster_panel_info(src_rj, vmin, vmax)"
   ]
  },
  {
   "cell_type": "markdown",
   "metadata": {},
   "source": [
    "## MASK + CHANGE + MASK"
   ]
  },
  {
   "cell_type": "code",
   "execution_count": 15,
   "metadata": {},
   "outputs": [
    {
     "name": "stdout",
     "output_type": "stream",
     "text": [
      "MASK + CHANGE RESOLUTION + MASK\n",
      "================================================================================\n",
      "shape: (1, 31, 63)\n",
      "dtypes: ('float64',)\n",
      "nodata: None\n",
      "min: -414.0\n",
      "mean: 2205.9400921658985\n",
      "median: 609.0\n",
      "max: 7673.0\n",
      "vmin: -2000.0\n",
      "vmax: 10000.0\n"
     ]
    },
    {
     "name": "stderr",
     "output_type": "stream",
     "text": [
      "/home/xmn/miniconda3/envs/alertadengue/lib/python3.6/site-packages/numpy/core/_methods.py:29: RuntimeWarning: invalid value encountered in reduce\n",
      "  return umr_minimum(a, axis, None, out, keepdims)\n"
     ]
    },
    {
     "data": {
      "image/png": "[encoded data removed]",
      "text/plain": [
       "<matplotlib.figure.Figure at 0x7fa74db53588>"
      ]
     },
     "metadata": {},
     "output_type": "display_data"
    }
   ],
   "source": [
    "ndvi_rj_final_name = '%s_final_%s' % (geocode, raster_name)\n",
    "\n",
    "ndvi_rj_final_path = os.path.join(\n",
    "    os.sep, 'tmp', ndvi_rj_final_name\n",
    ")\n",
    "\n",
    "with rasterio.open(ndvi_rj_res3_path) as dst:\n",
    "    ndvi_rj_final_image, ndvi_rj_final_meta = mask_raster(dst, features)\n",
    "\n",
    "with rasterio.open(ndvi_rj_final_path, \"w\", **ndvi_rj_final_meta) as dst:\n",
    "    dst.write(ndvi_rj_final_image)\n",
    "    print('MASK + CHANGE RESOLUTION + MASK')\n",
    "    show_raster_panel_info(dst, vmin, vmax)\n",
    "\n",
    "    "
   ]
  }
 ],
 "metadata": {
  "kernelspec": {
   "display_name": "Python 3",
   "language": "python",
   "name": "python3"
  },
  "language_info": {
   "codemirror_mode": {
    "name": "ipython",
    "version": 3
   },
   "file_extension": ".py",
   "mimetype": "text/x-python",
   "name": "python",
   "nbconvert_exporter": "python",
   "pygments_lexer": "ipython3",
   "version": "3.6.4"
  },
  "toc": {
   "nav_menu": {},
   "number_sections": true,
   "sideBar": true,
   "skip_h1_title": true,
   "toc_cell": false,
   "toc_position": {},
   "toc_section_display": "block",
   "toc_window_display": false
  }
 },
 "nbformat": 4,
 "nbformat_minor": 2
}
