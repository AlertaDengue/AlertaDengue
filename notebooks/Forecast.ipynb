{
 "cells": [
  {
   "cell_type": "markdown",
   "metadata": {},
   "source": [
    "# Forecast"
   ]
  },
  {
   "cell_type": "code",
   "execution_count": 1,
   "metadata": {
    "collapsed": true
   },
   "outputs": [],
   "source": [
    "from datetime import datetime, timedelta\n",
    "from sqlalchemy import create_engine\n",
    "\n",
    "import pandas as pd\n",
    "import psycopg2"
   ]
  },
  {
   "cell_type": "markdown",
   "metadata": {},
   "source": [
    "## Generate samples"
   ]
  },
  {
   "cell_type": "code",
   "execution_count": 4,
   "metadata": {
    "collapsed": true
   },
   "outputs": [],
   "source": [
    "def generate_sample(output):\n",
    "    sql = '''\n",
    "    INSERT INTO \"Municipio\".forecast \n",
    "    VALUES (%s,%s,'%s','%s',%s,\\'%s\\',\\'%s\\');\n",
    "    '''.replace('\\n', '').strip()\n",
    "    \n",
    "    CID10 = {\n",
    "        'dengue': 'A90',\n",
    "        'zika': 'A928',\n",
    "        'chikungunya': 'A920'\n",
    "    }\n",
    "    \n",
    "    cities = {\n",
    "        'curitiba': 4106902,\n",
    "        'rio': 3304557\n",
    "    }\n",
    "    \n",
    "    for city_name, geoid in cities.items():\n",
    "        for cid_name, cid_id in CID10.items():\n",
    "            for w in range(1, 54):\n",
    "                d = datetime.strptime('2017-01-01', '%Y-%m-%d') + timedelta(days=7*w)\n",
    "\n",
    "                init_date = d.strftime('%Y-%m-%d')\n",
    "                epiweek = '2017%s' % str(w).rjust(2, '0')\n",
    "                cases = (w ** 2) * 10\n",
    "                model_id = str(w)[0] * 128\n",
    "                commit_id = str(w)[0] * 7\n",
    "\n",
    "                text = sql % (\n",
    "                    epiweek, geoid, cid_id,\n",
    "                    init_date, cases, model_id, commit_id\n",
    "                )\n",
    "\n",
    "                print(text, file=output)"
   ]
  },
  {
   "cell_type": "code",
   "execution_count": 5,
   "metadata": {
    "collapsed": true,
    "scrolled": false
   },
   "outputs": [],
   "source": [
    "with open('/tmp/insert.sql', 'w') as f:\n",
    "    generate_sample(f)"
   ]
  },
  {
   "cell_type": "code",
   "execution_count": 6,
   "metadata": {
    "collapsed": true
   },
   "outputs": [],
   "source": [
    "def get_passwd_from_ini(filepath: str):\n",
    "    with open(filepath) as f:\n",
    "        text = f.read()\n",
    "        i = text.index('PSQL_PASSWORD')\n",
    "        f = text[i:].index('\\n')\n",
    "        passwd = text[i:i+f].split('=')\n",
    "        return passwd[1].strip()"
   ]
  },
  {
   "cell_type": "code",
   "execution_count": 7,
   "metadata": {
    "collapsed": true
   },
   "outputs": [],
   "source": [
    "db = 'dengue'\n",
    "user = 'dengueadmin'\n",
    "host = 'localhost'\n",
    "passwd = get_passwd_from_ini('../AlertaDengue/AlertaDengue/settings.ini')"
   ]
  },
  {
   "cell_type": "code",
   "execution_count": 8,
   "metadata": {
    "collapsed": true
   },
   "outputs": [],
   "source": [
    "engine = create_engine(\"postgresql://{}:{}@{}/{}\".format(\n",
    "    user, passwd, host, db\n",
    "))"
   ]
  },
  {
   "cell_type": "code",
   "execution_count": 9,
   "metadata": {
    "collapsed": true
   },
   "outputs": [],
   "source": [
    "sql = \"\"\"\n",
    "SELECT \n",
    "    (CASE \n",
    "     WHEN tb_cases.\"data_iniSE\" IS NOT NULL \n",
    "       THEN tb_cases.\"data_iniSE\" \n",
    "     ELSE forecast.init_date_epiweek\n",
    "     END\n",
    "    ) AS \"data_iniSE\",\n",
    "    tb_cases.casos_est_min,\n",
    "    tb_cases.casos_est,\n",
    "    tb_cases.casos_est_max,\n",
    "    tb_cases.casos,\n",
    "    tb_cases.nivel,\n",
    "    (CASE \n",
    "     WHEN tb_cases.\"SE\" IS NOT NULL THEN tb_cases.\"SE\" \n",
    "     ELSE forecast.epiweek\n",
    "     END\n",
    "    ) AS \"SE\",\n",
    "    tb_cases.p_rt1,\n",
    "    forecast.cases AS forecast_cases \n",
    "FROM\n",
    "    (SELECT \n",
    "       data AS \"data_iniSE\",\n",
    "       SUM(casos_estmin) AS casos_est_min,\n",
    "       SUM(casos_est) as casos_est,\n",
    "       SUM(casos_estmax) AS casos_est_max,\n",
    "       SUM(casos) AS casos,\n",
    "       MAX(nivel) AS nivel,\n",
    "       se AS \"SE\",\n",
    "       SUM(prt1) AS p_rt1\n",
    "     FROM \"Municipio\".alerta_mrj\n",
    "     GROUP BY \"data_iniSE\", \"SE\"\n",
    "    ) AS tb_cases FULL OUTER JOIN \"Municipio\".forecast\n",
    "      ON (tb_cases.\"SE\" = forecast.epiweek)\n",
    "ORDER BY \"data_iniSE\" ASC\n",
    "\"\"\"\n",
    "\n",
    "df = pd.read_sql(sql, con=engine)"
   ]
  },
  {
   "cell_type": "code",
   "execution_count": 10,
   "metadata": {},
   "outputs": [
    {
     "data": {
      "text/plain": [
       "True"
      ]
     },
     "execution_count": 10,
     "metadata": {},
     "output_type": "execute_result"
    }
   ],
   "source": [
    "df['casos_est'].isnull().any()"
   ]
  }
 ],
 "metadata": {
  "kernelspec": {
   "display_name": "Python 3",
   "language": "python",
   "name": "python3"
  },
  "language_info": {
   "codemirror_mode": {
    "name": "ipython",
    "version": 3
   },
   "file_extension": ".py",
   "mimetype": "text/x-python",
   "name": "python",
   "nbconvert_exporter": "python",
   "pygments_lexer": "ipython3",
   "version": "3.6.2"
  },
  "latex_envs": {
   "LaTeX_envs_menu_present": true,
   "autocomplete": true,
   "bibliofile": "biblio.bib",
   "cite_by": "apalike",
   "current_citInitial": 1,
   "eqLabelWithNumbers": true,
   "eqNumInitial": 1,
   "hotkeys": {
    "equation": "Ctrl-E",
    "itemize": "Ctrl-I"
   },
   "labels_anchors": false,
   "latex_user_defs": false,
   "report_style_numbering": false,
   "user_envs_cfg": false
  },
  "toc": {
   "colors": {
    "hover_highlight": "#DAA520",
    "navigate_num": "#000000",
    "navigate_text": "#333333",
    "running_highlight": "#FF0000",
    "selected_highlight": "#FFD700",
    "sidebar_border": "#EEEEEE",
    "wrapper_background": "#FFFFFF"
   },
   "moveMenuLeft": true,
   "nav_menu": {
    "height": "48px",
    "width": "252px"
   },
   "navigate_menu": true,
   "number_sections": true,
   "sideBar": true,
   "skip_h1_title": true,
   "threshold": 4,
   "toc_cell": false,
   "toc_section_display": "block",
   "toc_window_display": false,
   "widenNotebook": false
  }
 },
 "nbformat": 4,
 "nbformat_minor": 2
}
